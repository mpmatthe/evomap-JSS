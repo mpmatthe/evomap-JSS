{
 "cells": [
  {
   "attachments": {},
   "cell_type": "markdown",
   "metadata": {},
   "source": [
    "# About\n",
    "\n",
    "This notebook replicates paper: 'evomap - a Toolbox for Dynamic Mapping in Python'.\n",
    "\n",
    "Python environment: evomap-package\n",
    "\n",
    "For details on the used package versions, see the file evomap-package-environment.yml\n",
    "\n",
    "All code was last run on MacOS 13.5.2.\n",
    "\n",
    "## Installation\n",
    "\n",
    "Create a virtual Python environment using the attached .yml file\n",
    "\n",
    "```\n",
    "conda env create -f evomap-package-environment.yml\n",
    "conda activate evomap-package\n",
    "```\n",
    "\n",
    "Alternatively, you can also install all required packages manually by running\n",
    "```\n",
    "conda env create -n evomap-package python=3.9\n",
    "conda activate evomap-package\n",
    "conda install ipykernel pip jupyter openpyxl\n",
    "pip install evomap\n",
    "```"
   ]
  },
  {
   "attachments": {},
   "cell_type": "markdown",
   "metadata": {},
   "source": [
    "# Setup\n",
    "\n",
    "First, create path variabels for each subfolder and import the essential packages."
   ]
  },
  {
   "cell_type": "code",
   "execution_count": 1,
   "metadata": {},
   "outputs": [],
   "source": [
    "%matplotlib inline\n",
    "\n",
    "import pandas as pd\n",
    "import numpy as np\n",
    "import matplotlib\n",
    "from matplotlib import pyplot as plt\n",
    "import os\n",
    "\n",
    "PATH_HOME = os.path.dirname(os.getcwd()) # parent folder\n",
    "PATH_OUT = os.path.join(PATH_HOME, 'gen') # output folder\n",
    "\n",
    "for file in os.listdir(PATH_OUT):\n",
    "    os.remove(os.path.join(PATH_OUT, file))\n",
    "\n",
    "# Plotting parameters\n",
    "title_fontdict = {'size': 18, 'family': 'Arial'}\n",
    "title_fontdict_large = {'size': 20, 'family': 'Arial'}\n",
    "label_fontdict = {'size': 16, 'family': 'Arial'}\n",
    "label_fontdict_large = {'size': 18, 'family': 'Arial'}\n",
    "\n",
    "# Set random seed for reproducibility\n",
    "np.random.seed(111)"
   ]
  },
  {
   "cell_type": "markdown",
   "metadata": {},
   "source": [
    "# Part 1: Illustration of Static vs. Dynamic Mapping\n",
    "\n",
    "The following code displays the necessary steps to generate the output shown in section 2 of the paper ('background on mapping'). \n",
    "\n",
    "## Loading the Data\n",
    "\n",
    "For most of this illustration, we use a small sample from the TNIC data available through the dataset submodule."
   ]
  },
  {
   "cell_type": "code",
   "execution_count": 2,
   "metadata": {},
   "outputs": [],
   "source": [
    "from evomap.datasets import load_tnic_sample_tech\n",
    "\n",
    "data = load_tnic_sample_tech()"
   ]
  },
  {
   "cell_type": "markdown",
   "metadata": {},
   "source": [
    "The sample is organized as an edgelist where each observation corresponds to a single firm-firm pair. It contains a total of 9 firms and their pairiwse relationships over 20 years."
   ]
  },
  {
   "cell_type": "code",
   "execution_count": 3,
   "metadata": {},
   "outputs": [
    {
     "data": {
      "text/html": [
       "<div>\n",
       "<style scoped>\n",
       "    .dataframe tbody tr th:only-of-type {\n",
       "        vertical-align: middle;\n",
       "    }\n",
       "\n",
       "    .dataframe tbody tr th {\n",
       "        vertical-align: top;\n",
       "    }\n",
       "\n",
       "    .dataframe thead th {\n",
       "        text-align: right;\n",
       "    }\n",
       "</style>\n",
       "<table border=\"1\" class=\"dataframe\">\n",
       "  <thead>\n",
       "    <tr style=\"text-align: right;\">\n",
       "      <th></th>\n",
       "      <th>year</th>\n",
       "    </tr>\n",
       "    <tr>\n",
       "      <th>name1</th>\n",
       "      <th></th>\n",
       "    </tr>\n",
       "  </thead>\n",
       "  <tbody>\n",
       "    <tr>\n",
       "      <th>APPLE INC</th>\n",
       "      <td>20</td>\n",
       "    </tr>\n",
       "    <tr>\n",
       "      <th>AT&amp;T INC</th>\n",
       "      <td>20</td>\n",
       "    </tr>\n",
       "    <tr>\n",
       "      <th>EBAY INC</th>\n",
       "      <td>20</td>\n",
       "    </tr>\n",
       "    <tr>\n",
       "      <th>INTUIT INC</th>\n",
       "      <td>20</td>\n",
       "    </tr>\n",
       "    <tr>\n",
       "      <th>MICRON TECHNOLOGY INC</th>\n",
       "      <td>20</td>\n",
       "    </tr>\n",
       "    <tr>\n",
       "      <th>MICROSOFT CORP</th>\n",
       "      <td>20</td>\n",
       "    </tr>\n",
       "    <tr>\n",
       "      <th>ORACLE CORP</th>\n",
       "      <td>20</td>\n",
       "    </tr>\n",
       "    <tr>\n",
       "      <th>US CELLULAR CORP</th>\n",
       "      <td>20</td>\n",
       "    </tr>\n",
       "    <tr>\n",
       "      <th>WESTERN DIGITAL CORP</th>\n",
       "      <td>20</td>\n",
       "    </tr>\n",
       "  </tbody>\n",
       "</table>\n",
       "</div>"
      ],
      "text/plain": [
       "                       year\n",
       "name1                      \n",
       "APPLE INC                20\n",
       "AT&T INC                 20\n",
       "EBAY INC                 20\n",
       "INTUIT INC               20\n",
       "MICRON TECHNOLOGY INC    20\n",
       "MICROSOFT CORP           20\n",
       "ORACLE CORP              20\n",
       "US CELLULAR CORP         20\n",
       "WESTERN DIGITAL CORP     20"
      ]
     },
     "execution_count": 3,
     "metadata": {},
     "output_type": "execute_result"
    }
   ],
   "source": [
    "data.groupby('name1').agg({'year':'nunique'})"
   ]
  },
  {
   "cell_type": "markdown",
   "metadata": {},
   "source": [
    "First, transform the edgelist into a sequence of similarity matrices"
   ]
  },
  {
   "cell_type": "code",
   "execution_count": 4,
   "metadata": {},
   "outputs": [],
   "source": [
    "from evomap.preprocessing import edgelist2matrices\n",
    "S_t, labels_t = edgelist2matrices(\n",
    "    data, \n",
    "    score_var = 'score', \n",
    "    id_var_i = 'name1', \n",
    "    id_var_j = 'name2', \n",
    "    time_var = 'year')"
   ]
  },
  {
   "cell_type": "markdown",
   "metadata": {},
   "source": [
    "The result is a sequence of matrices and a sequence of labels. As the sample is balanced, all labels remain the same over time in this example. Therefore, we simply use the first list of labels in what follows. "
   ]
  },
  {
   "cell_type": "code",
   "execution_count": null,
   "metadata": {},
   "outputs": [
    {
     "ename": "",
     "evalue": "",
     "output_type": "error",
     "traceback": [
      "\u001b[1;31mnotebook controller is DISPOSED. \n",
      "\u001b[1;31mView Jupyter <a href='command:jupyter.viewOutput'>log</a> for further details."
     ]
    },
    {
     "ename": "",
     "evalue": "",
     "output_type": "error",
     "traceback": [
      "\u001b[1;31mnotebook controller is DISPOSED. \n",
      "\u001b[1;31mView Jupyter <a href='command:jupyter.viewOutput'>log</a> for further details."
     ]
    }
   ],
   "source": [
    "labels = labels_t[0]\n",
    "labels"
   ]
  },
  {
   "cell_type": "markdown",
   "metadata": {},
   "source": [
    "Preview of a single similarity matrix:"
   ]
  },
  {
   "cell_type": "code",
   "execution_count": null,
   "metadata": {},
   "outputs": [],
   "source": [
    "S_t[0].round(2)"
   ]
  },
  {
   "cell_type": "markdown",
   "metadata": {},
   "source": [
    "To map this similarity matrix via MDS, we first transform it into dissimilarities using the sim2diss function from the preprocessing submodule."
   ]
  },
  {
   "cell_type": "code",
   "execution_count": null,
   "metadata": {},
   "outputs": [],
   "source": [
    "from evomap.preprocessing import sim2diss\n",
    "D_t = []\n",
    "for S in S_t:\n",
    "    D_t.append(sim2diss(S, transformation = 'mirror'))"
   ]
  },
  {
   "cell_type": "code",
   "execution_count": null,
   "metadata": {},
   "outputs": [],
   "source": [
    "D_t[0].shape"
   ]
  },
  {
   "cell_type": "code",
   "execution_count": null,
   "metadata": {},
   "outputs": [],
   "source": [
    "D_t[0].round(2)"
   ]
  },
  {
   "cell_type": "markdown",
   "metadata": {},
   "source": [
    "## Illustration of Static Mapping\n",
    "\n",
    "Next, we create static snapshots of these matrices using MDS. "
   ]
  },
  {
   "cell_type": "code",
   "execution_count": null,
   "metadata": {},
   "outputs": [],
   "source": [
    "periods = data.year.unique()\n",
    "n_periods = len(periods)\n",
    "n_samples = len(labels)\n",
    "D_0 = D_t[0]"
   ]
  },
  {
   "cell_type": "code",
   "execution_count": null,
   "metadata": {},
   "outputs": [],
   "source": [
    "print(\"First snapshot corresponds to the year {0}\".format(periods[0]))"
   ]
  },
  {
   "attachments": {},
   "cell_type": "markdown",
   "metadata": {},
   "source": [
    "Here, we use non-metric ordinal MDS, initialized via Classical Scaling. "
   ]
  },
  {
   "cell_type": "code",
   "execution_count": null,
   "metadata": {},
   "outputs": [],
   "source": [
    "from evomap.mapping import MDS\n",
    "mds = MDS(mds_type = 'ordinal', init = 'cmds', verbose = True)\n",
    "X_0 = mds.fit_transform(D_0)"
   ]
  },
  {
   "cell_type": "markdown",
   "metadata": {},
   "source": [
    "To display the results, first draw a single snapshot."
   ]
  },
  {
   "cell_type": "code",
   "execution_count": null,
   "metadata": {},
   "outputs": [],
   "source": [
    "from matplotlib import pyplot as plt\n",
    "from evomap.printer import draw_map\n",
    "\n",
    "fig, ax = plt.subplots(1,2, figsize = (16,8))\n",
    "draw_map(\n",
    "    X_0, \n",
    "    label = labels, \n",
    "    show_axes = True, \n",
    "    axes_at_origin = False, \n",
    "    show_grid = False, \n",
    "    ax = ax[0])\n",
    "\n",
    "ax[0].set_title('A: Static MDS Map \\n', fontdict= title_fontdict_large)"
   ]
  },
  {
   "cell_type": "markdown",
   "metadata": {},
   "source": [
    "Then, add the Shepard diagram to evaluate the snapshot's mapping quality. "
   ]
  },
  {
   "cell_type": "code",
   "execution_count": null,
   "metadata": {},
   "outputs": [],
   "source": [
    "from evomap.printer import draw_shepard_diagram\n",
    "    \n",
    "draw_shepard_diagram(X_0, D_0, ax = ax[1])\n",
    "ax[1].set_title('B: Shepard Diagram \\n', fontdict= title_fontdict_large)\n",
    "ax[1].legend(['Observed dissimilarities', 'Transformed dissimilariites'], loc = 4, prop = label_fontdict)"
   ]
  },
  {
   "cell_type": "code",
   "execution_count": null,
   "metadata": {},
   "outputs": [],
   "source": [
    "fig.tight_layout()\n",
    "fig"
   ]
  },
  {
   "cell_type": "code",
   "execution_count": null,
   "metadata": {},
   "outputs": [],
   "source": [
    "print(\"Final Stress value: {0:.2f}\".format(mds.cost_))"
   ]
  },
  {
   "cell_type": "markdown",
   "metadata": {},
   "source": [
    "Save the Figure as Figure 1 of the Paper."
   ]
  },
  {
   "cell_type": "code",
   "execution_count": null,
   "metadata": {},
   "outputs": [],
   "source": [
    "fig.savefig(os.path.join(PATH_OUT, 'Fig1_static_mapping.PNG'), dpi = 300)"
   ]
  },
  {
   "cell_type": "markdown",
   "metadata": {},
   "source": [
    "## Dynamic Mapping via EvoMap\n",
    "\n",
    "To illustrate Dynamic Mapping, we apply EvoMap, implemented for MDS, to the entire sequence of matrices. \n",
    "\n",
    "First, we generate a sequence of starting configurations using Classical Scaling applied to the first period."
   ]
  },
  {
   "cell_type": "code",
   "execution_count": null,
   "metadata": {},
   "outputs": [],
   "source": [
    "from evomap.mapping import CMDS\n",
    "cmds_t = []\n",
    "cmds = CMDS().fit_transform(D_t[0])\n",
    "for t in range(n_periods):\n",
    "    cmds_t.append(cmds)"
   ]
  },
  {
   "cell_type": "code",
   "execution_count": null,
   "metadata": {},
   "outputs": [],
   "source": [
    "print(cmds)"
   ]
  },
  {
   "attachments": {},
   "cell_type": "markdown",
   "metadata": {},
   "source": [
    "Then, we apply EvoMap. Here, we set the alignment penalty (alpha) to .2, and add some smoothing by increasing p to 2:"
   ]
  },
  {
   "cell_type": "code",
   "execution_count": null,
   "metadata": {},
   "outputs": [],
   "source": [
    "from evomap.mapping import EvoMDS\n",
    "\n",
    "evomds = EvoMDS(\n",
    "    alpha = .2, \n",
    "    p = 2, \n",
    "    mds_type = 'ordinal', \n",
    "    init = cmds_t)\n",
    "\n",
    "X_t = evomds.fit_transform(D_t) "
   ]
  },
  {
   "cell_type": "code",
   "execution_count": null,
   "metadata": {},
   "outputs": [],
   "source": [
    "print(len(X_t))\n",
    "print(X_t[0].shape)"
   ]
  },
  {
   "cell_type": "code",
   "execution_count": null,
   "metadata": {},
   "outputs": [],
   "source": [
    "from evomap.printer import draw_dynamic_map\n",
    "\n",
    "fig, ax = plt.subplots(1,2, figsize = (14, 6))\n",
    "\n",
    "draw_map(X_t[0], label = labels, show_axes=True, show_box = True, ax = ax[0])\n",
    "draw_dynamic_map(X_t, \n",
    "                 label=labels,\n",
    "                 show_axes=True,\n",
    "                 show_last_positions_only=True, \n",
    "                 show_arrows=True, \n",
    "                 ax = ax[1])\n",
    "\n",
    "\n",
    "ax[0].set_title('A: Snapshot in {}'.format(periods[0]), fontdict = title_fontdict)\n",
    "ax[1].set_title('B: Trajectories throughout {0} to {1}'.format(periods[0], periods[-1]), fontdict = title_fontdict)\n",
    "\n",
    "fig.tight_layout()\n",
    "fig"
   ]
  },
  {
   "cell_type": "code",
   "execution_count": null,
   "metadata": {},
   "outputs": [],
   "source": [
    "print(\"The maps represent the evolving positions over {0} years between {1} and {2}\".format(n_periods, periods[0], periods[-1]))"
   ]
  },
  {
   "cell_type": "markdown",
   "metadata": {},
   "source": [
    "Save the Figure as Figure 2 in the paper."
   ]
  },
  {
   "cell_type": "code",
   "execution_count": null,
   "metadata": {},
   "outputs": [],
   "source": [
    "fig.savefig(os.path.join(PATH_OUT, 'Fig2_dynamic_mapping.PNG'), dpi = 300)"
   ]
  },
  {
   "cell_type": "markdown",
   "metadata": {},
   "source": [
    "# Part 2: Detailed Usage Example\n",
    "\n",
    "This part goes through each step performed above in more detail. "
   ]
  },
  {
   "cell_type": "markdown",
   "metadata": {},
   "source": [
    "## Basic Syntax\n",
    "\n",
    "The basic usecase of EvoMap is creating dynamic maps of evolving relationship data, like the following:"
   ]
  },
  {
   "cell_type": "code",
   "execution_count": null,
   "metadata": {},
   "outputs": [],
   "source": [
    "evomds = EvoMDS(\n",
    "    alpha = .2, \n",
    "    p = 2, \n",
    "    mds_type = 'ordinal', \n",
    "    init = cmds_t)\n",
    "\n",
    "X_t = evomds.fit_transform(D_t) \n",
    "\n",
    "draw_dynamic_map(X_t, \n",
    "                 label=labels, \n",
    "                 show_arrows=True, \n",
    "                 show_axes=True)"
   ]
  },
  {
   "cell_type": "code",
   "execution_count": null,
   "metadata": {},
   "outputs": [],
   "source": [
    "fig, ax = plt.subplots(figsize = (6,6))\n",
    "draw_dynamic_map(X_t, label = labels, show_arrows= True, show_axes = True, ax = ax)\n",
    "fig.savefig(os.path.join(PATH_OUT, 'Fig3_dynamic_map.PNG'), dpi = 300)"
   ]
  },
  {
   "cell_type": "markdown",
   "metadata": {},
   "source": [
    "## Preprocessing\n",
    "\n",
    "Before applying EvoMap, all input data needs to be formatted as a sequence of square matrices.\n",
    "\n",
    "Here, our data is represented as an edgelist:"
   ]
  },
  {
   "cell_type": "code",
   "execution_count": null,
   "metadata": {},
   "outputs": [],
   "source": [
    "table_overview = pd.concat([data.head(), data.tail()], axis = 0)\n",
    "table_overview = table_overview[['year', 'name1', 'name2', 'score', 'sic1', 'sic2', 'size1', 'size2']]\n",
    "table_overview.size1 = table_overview.size1.round(2)\n",
    "table_overview.size2 = table_overview.size2.round(2)\n",
    "table_overview"
   ]
  },
  {
   "cell_type": "code",
   "execution_count": null,
   "metadata": {},
   "outputs": [],
   "source": [
    "table_overview.to_excel(os.path.join(PATH_OUT, \"table2-data-overview.xlsx\"))"
   ]
  },
  {
   "cell_type": "markdown",
   "metadata": {},
   "source": [
    "The basic syntax to use evomap consists of the following lines of code, which instantinates the method and fits it to the data. Note that the import statement is not necessary here, as we imported the class before, but only included for completeness of this minimal example. "
   ]
  },
  {
   "cell_type": "code",
   "execution_count": null,
   "metadata": {},
   "outputs": [],
   "source": [
    "from evomap.mapping import EvoMDS\n",
    "\n",
    "evomds = EvoMDS(\n",
    "    alpha = .2, \n",
    "    p = 2, \n",
    "    mds_type = 'ordinal', \n",
    "    init = cmds_t)\n",
    "\n",
    "X_t = evomds.fit_transform(D_t) "
   ]
  },
  {
   "cell_type": "markdown",
   "metadata": {},
   "source": [
    "The output is a list of arrays shape (n_samples, n_dims)"
   ]
  },
  {
   "cell_type": "code",
   "execution_count": null,
   "metadata": {},
   "outputs": [],
   "source": [
    "print(type(X_t))"
   ]
  },
  {
   "cell_type": "code",
   "execution_count": null,
   "metadata": {},
   "outputs": [],
   "source": [
    "print(len(X_t))"
   ]
  },
  {
   "cell_type": "code",
   "execution_count": null,
   "metadata": {},
   "outputs": [],
   "source": [
    "print(X_t[0].round(2))"
   ]
  },
  {
   "cell_type": "markdown",
   "metadata": {},
   "source": [
    "## Hyperparameters"
   ]
  },
  {
   "cell_type": "markdown",
   "metadata": {},
   "source": [
    "A crucial task when running EvoMap is to find suitable values for its hyperparameters.\n",
    "\n",
    "Here, we illustrate the effect that varying values of these hyperparamters have on EvoMap's output:"
   ]
  },
  {
   "cell_type": "markdown",
   "metadata": {},
   "source": [
    "Varying levels of alpha:"
   ]
  },
  {
   "cell_type": "code",
   "execution_count": null,
   "metadata": {},
   "outputs": [],
   "source": [
    "X_t_low_alpha = EvoMDS(alpha = 0.01, mds_type = 'ordinal', init = cmds_t).fit_transform(D_t)\n",
    "X_t_mid_alpha = EvoMDS(alpha = 0.2, mds_type = 'ordinal', init = cmds_t).fit_transform(D_t)\n",
    "X_t_high_alpha = EvoMDS(alpha = 1.5, mds_type = 'ordinal', init = cmds_t).fit_transform(D_t)"
   ]
  },
  {
   "cell_type": "markdown",
   "metadata": {},
   "source": [
    "Varying levels of p:"
   ]
  },
  {
   "cell_type": "code",
   "execution_count": null,
   "metadata": {},
   "outputs": [],
   "source": [
    "X_t_p1 = EvoMDS(alpha = .2, p = 1, mds_type = 'ordinal', init = cmds_t).fit_transform(D_t)\n",
    "X_t_p2 = EvoMDS(alpha = .2, p = 2, mds_type = 'ordinal', init = cmds_t).fit_transform(D_t)\n",
    "X_t_p3 = EvoMDS(alpha = .2, p = 3, mds_type = 'ordinal', init = cmds_t).fit_transform(D_t)"
   ]
  },
  {
   "cell_type": "markdown",
   "metadata": {},
   "source": [
    "Plot results:"
   ]
  },
  {
   "cell_type": "code",
   "execution_count": null,
   "metadata": {},
   "outputs": [],
   "source": [
    "from evomap.printer import draw_trajectories\n",
    "fig, ax = plt.subplots(2,3,figsize = (18,12))\n",
    "\n",
    "draw_trajectories(X_t_low_alpha, show_axes= True, labels = labels, period_labels= periods, ax = ax[0,0])\n",
    "draw_trajectories(X_t_mid_alpha, labels = labels, period_labels = periods, show_axes=True, ax = ax[0,1])\n",
    "draw_trajectories(X_t_high_alpha, labels = labels, period_labels = periods, show_axes = True, ax = ax[0,2])\n",
    "\n",
    "draw_trajectories(X_t_p1, show_axes= True, labels = labels, period_labels= periods, ax = ax[1,0])\n",
    "draw_trajectories(X_t_p2, labels = labels, period_labels = periods, show_axes=True, ax = ax[1,1])\n",
    "draw_trajectories(X_t_p3, labels = labels, period_labels = periods, show_axes = True, ax = ax[1,2])\n",
    "\n",
    "ax[0,0].set_title('Solution A: \\nLow Alpha / p = 1\\n', fontdict = title_fontdict)\n",
    "ax[0,1].set_title('Solution B: \\nMedium Alpha / p = 1\\n', fontdict = title_fontdict)\n",
    "ax[0,2].set_title('Solution C: \\nHigh Alpha / p = 1\\n', fontdict = title_fontdict)\n",
    "ax[1,0].set_title('Solution D: \\nMedium Alpha / p = 1\\n', fontdict = title_fontdict)\n",
    "ax[1,1].set_title('Solution E: \\nMedium Alpha / p = 2\\n', fontdict = title_fontdict)\n",
    "ax[1,2].set_title('Solution F: \\nMedium Alpha / p = 3\\n', fontdict = title_fontdict)\n",
    "\n",
    "ax[0,0].set_xlabel('Dimension 1', fontdict = title_fontdict)\n",
    "ax[0,1].set_xlabel('Dimension 1', fontdict = title_fontdict)\n",
    "ax[0,2].set_xlabel('Dimension 1', fontdict = title_fontdict)\n",
    "ax[1,0].set_xlabel('Dimension 1', fontdict = title_fontdict)\n",
    "ax[1,1].set_xlabel('Dimension 1', fontdict = title_fontdict)\n",
    "ax[1,2].set_xlabel('Dimension 1', fontdict = title_fontdict)\n",
    "\n",
    "ax[0,0].set_ylabel('Dimension 1', fontdict = title_fontdict)\n",
    "ax[0,1].set_ylabel('Dimension 1', fontdict = title_fontdict)\n",
    "ax[0,2].set_ylabel('Dimension 1', fontdict = title_fontdict)\n",
    "ax[1,0].set_ylabel('Dimension 1', fontdict = title_fontdict)\n",
    "ax[1,1].set_ylabel('Dimension 1', fontdict = title_fontdict)\n",
    "ax[1,2].set_ylabel('Dimension 1', fontdict = title_fontdict)\n",
    "fig.tight_layout()\n",
    "fig.subplots_adjust(\n",
    "    hspace= .6,\n",
    "    wspace = .5\n",
    ")\n",
    "fig.savefig(os.path.join(PATH_OUT, 'Fig5_hyperparamters.PNG'), dpi = 300)\n",
    "\n",
    "fig"
   ]
  },
  {
   "cell_type": "markdown",
   "metadata": {},
   "source": [
    "## Convergence Diagnostics\n",
    "\n",
    "To obtain more details on how well the optimization converges, the user can change the 'verbose' parameter: "
   ]
  },
  {
   "cell_type": "code",
   "execution_count": null,
   "metadata": {},
   "outputs": [],
   "source": [
    "EvoMDS(\n",
    "    alpha = .2, \n",
    "    p = 2,\n",
    "    mds_type = 'ordinal', \n",
    "    init = cmds_t,\n",
    "    verbose = 1).fit(D_t)"
   ]
  },
  {
   "cell_type": "code",
   "execution_count": null,
   "metadata": {},
   "outputs": [],
   "source": [
    "EvoMDS(\n",
    "    alpha = .2,\n",
    "    p = 2,\n",
    "    mds_type = 'ordinal', \n",
    "    init = cmds_t,\n",
    "    n_iter_check = 50,\n",
    "    verbose = 2).fit(D_t)"
   ]
  },
  {
   "cell_type": "markdown",
   "metadata": {},
   "source": [
    "## Exploration\n",
    "\n",
    "Once EvoMap ran, the user can explore its output in either static or dynamic maps. The two main functions are:\n",
    "- draw_map\n",
    "- draw_dynamic_map"
   ]
  },
  {
   "cell_type": "markdown",
   "metadata": {},
   "source": [
    "#### Static Exploration via Draw Map"
   ]
  },
  {
   "cell_type": "markdown",
   "metadata": {},
   "source": [
    "Use static maps to compare snapshots"
   ]
  },
  {
   "cell_type": "code",
   "execution_count": null,
   "metadata": {},
   "outputs": [],
   "source": [
    "fig, ax = plt.subplots(1,3, figsize = (20,6))\n",
    "draw_map(X_t[0], label = labels, ax = ax[0])\n",
    "draw_map(X_t[10], label = labels, ax = ax[1])\n",
    "draw_map(X_t[19], label = labels, ax = ax[2])\n",
    "\n",
    "ax[0].set_title('EvoMap Snapshot: {0}'.format(periods[0]), **title_fontdict)\n",
    "ax[1].set_title('EvoMap Snapshot: {0}'.format(periods[10]), **title_fontdict)\n",
    "ax[2].set_title('EvoMap Snapshot: {0}'.format(periods[19]), **title_fontdict)\n",
    "\n",
    "fig.tight_layout()\n",
    "fig"
   ]
  },
  {
   "cell_type": "code",
   "execution_count": null,
   "metadata": {},
   "outputs": [],
   "source": [
    "fig.savefig(os.path.join(PATH_OUT, 'Fig6_static_snapshots.PNG'), dpi = 300)"
   ]
  },
  {
   "cell_type": "markdown",
   "metadata": {},
   "source": [
    "Also, we can augment the maps by linking variables in our data to visual characteristics. \n",
    "\n",
    "For instance, we can color each point based on the firm's SIC code. "
   ]
  },
  {
   "cell_type": "code",
   "execution_count": null,
   "metadata": {},
   "outputs": [],
   "source": [
    "sic_codes = []\n",
    "for firm in labels:\n",
    "    sic_codes.append(data.query('name1 == @firm').sic1.unique()[0])\n",
    "print(sic_codes)"
   ]
  },
  {
   "cell_type": "markdown",
   "metadata": {},
   "source": [
    "Or, we can adjust the size of each point proportional to the firm's market value:"
   ]
  },
  {
   "cell_type": "code",
   "execution_count": null,
   "metadata": {},
   "outputs": [],
   "source": [
    "sizes = []\n",
    "for firm in labels:\n",
    "    sizes.append(data.query('name1 == @firm').size1.unique()[0].round(2))\n",
    "print(sizes)"
   ]
  },
  {
   "cell_type": "markdown",
   "metadata": {},
   "source": [
    "Such variables can be added to the map via the 'c' and 'size' arguments:"
   ]
  },
  {
   "cell_type": "code",
   "execution_count": null,
   "metadata": {},
   "outputs": [],
   "source": [
    "sic = data.sic1\n",
    "\n",
    "fig, ax = plt.subplots(2,2,figsize = (11,8), layout = 'constrained')\n",
    "draw_map(X_t[0], show_axes = False, title = periods[0], ax = ax[0,0])\n",
    "draw_map(X_t[0], label = labels, show_axes = False, title = periods[0], ax = ax[0,1])\n",
    "draw_map(X_t[0], label = labels, show_axes = False, color = sic_codes, show_legend = False, title = periods[0], ax = ax[1,0])\n",
    "draw_map(X_t[0], label = labels, color = sic_codes, size = sizes, show_axes=False,\n",
    "title = periods[0], ax = ax[1,1])\n",
    "fig.tight_layout()\n",
    "\n",
    "#ax[1,0].legend(title = 'SIC Code', loc = 'lower right', bbox_to_anchor = (1.22, 0.0))\n",
    "\n",
    "fig.savefig(os.path.join(PATH_OUT, 'Fig7_draw_map_illustrations.PNG'), dpi = 300)\n",
    "\n",
    "fig"
   ]
  },
  {
   "cell_type": "markdown",
   "metadata": {},
   "source": [
    "## Drawing Dynamic Maps\n",
    "\n",
    "Beyond individual snapshots, evomap allows to create dynamic maps, overlaying multiple\n",
    "snapshots to illustrate changes over time. This is accomplished with draw_dynamic_map()\n",
    "or draw_trajectories()."
   ]
  },
  {
   "cell_type": "markdown",
   "metadata": {},
   "source": [
    "### Dynamic Map\n",
    "\n",
    "Before we draw the map, we store the additional variables linked to color and size:"
   ]
  },
  {
   "cell_type": "code",
   "execution_count": null,
   "metadata": {},
   "outputs": [],
   "source": [
    "sic_codes_t = []\n",
    "sizes_t = []\n",
    "for t in range(n_periods):\n",
    "    data_this = data.query('year == @periods[@t]')\n",
    "    sic_this = []\n",
    "    for firm in labels:\n",
    "        sic_this.append(data_this.query('name1 == @firm').sic1.unique()[0])\n",
    "\n",
    "    sic_codes_t.append(np.array(sic_this))    \n",
    "\n",
    "    sizes_this = []\n",
    "    for firm in labels:\n",
    "        sizes_this.append(data_this.query('name1 == @firm').size1.unique()[0])\n",
    "    \n",
    "    sizes_t.append(np.array(sizes_this))\n"
   ]
  },
  {
   "cell_type": "markdown",
   "metadata": {},
   "source": [
    "We then draw the map, using these variabels as additional aesthetics:"
   ]
  },
  {
   "cell_type": "code",
   "execution_count": null,
   "metadata": {},
   "outputs": [],
   "source": [
    "fig, ax = plt.subplots(1,2, figsize = (16,7))\n",
    "\n",
    "from evomap.printer import draw_dynamic_map\n",
    "draw_dynamic_map(X_t,\n",
    "                 label = labels,\n",
    "                 color_t = sic_codes_t,\n",
    "                 size_t = sizes_t,\n",
    "                 show_arrows = True,\n",
    "                 show_axes = True,\n",
    "                 ax = ax[0])"
   ]
  },
  {
   "cell_type": "markdown",
   "metadata": {},
   "source": [
    "### Draw Trajectories\n",
    "\n",
    "Alternatively, draw_trajectories focuses solely on all objects' movement paths:"
   ]
  },
  {
   "cell_type": "code",
   "execution_count": null,
   "metadata": {},
   "outputs": [],
   "source": [
    "from evomap.printer import draw_trajectories\n",
    "draw_trajectories(X_t, \n",
    "                  labels = labels, \n",
    "                  period_labels = periods, \n",
    "                  show_axes=True,\n",
    "                  ax = ax[1])"
   ]
  },
  {
   "cell_type": "code",
   "execution_count": null,
   "metadata": {},
   "outputs": [],
   "source": [
    "ax[0].set_title('A: Dynamic Map')\n",
    "ax[1].set_title('B: Trajectories')\n",
    "\n",
    "fig.tight_layout()\n",
    "fig.savefig(os.path.join(PATH_OUT, 'Fig8_dynamic_map_and_trajectories.PNG'), dpi = 300)\n",
    "fig"
   ]
  },
  {
   "cell_type": "markdown",
   "metadata": {},
   "source": [
    "## Evaluation\n",
    "\n",
    "While visual exploration allows to explore the mapping results, it is essential to evalute how\n",
    "well they represent the underlying data. This can be achieved through:"
   ]
  },
  {
   "cell_type": "markdown",
   "metadata": {},
   "source": [
    "### Cost Function Values"
   ]
  },
  {
   "cell_type": "code",
   "execution_count": null,
   "metadata": {},
   "outputs": [],
   "source": [
    "evomds_indep = EvoMDS(\n",
    "    alpha = 0,  \n",
    "    init = cmds_t, \n",
    "    mds_type= 'ordinal').fit(D_t)\n",
    "\n",
    "print(evomds_indep.cost_static_avg_.round(4))\n",
    "print(evomds.cost_static_avg_.round(4))"
   ]
  },
  {
   "cell_type": "markdown",
   "metadata": {},
   "source": [
    "### Evaluation Metrics"
   ]
  },
  {
   "cell_type": "code",
   "execution_count": null,
   "metadata": {},
   "outputs": [],
   "source": [
    "from evomap.metrics import *\n",
    "misalign_score(X_t).round(4)"
   ]
  },
  {
   "cell_type": "code",
   "execution_count": null,
   "metadata": {},
   "outputs": [],
   "source": [
    "persistence_score(X_t).round(4)"
   ]
  },
  {
   "cell_type": "markdown",
   "metadata": {},
   "source": [
    "For comparison, we also compute these metrics for two additional solutions:\n",
    "- Independent Mapping\n",
    "- Independent Mapping, aligned via Procrustes Analysis"
   ]
  },
  {
   "cell_type": "code",
   "execution_count": null,
   "metadata": {},
   "outputs": [],
   "source": [
    "from evomap.transform import align_maps\n",
    "X_t_indep = []\n",
    "for D in D_t:\n",
    "    X_t_indep.append(MDS(mds_type='ordinal', init = 'cmds').fit_transform(D))\n",
    "\n",
    "X_t_indep_aligned = align_maps(X_t_indep, X_t[0])"
   ]
  },
  {
   "cell_type": "markdown",
   "metadata": {},
   "source": [
    "Overview of all results:"
   ]
  },
  {
   "cell_type": "code",
   "execution_count": null,
   "metadata": {},
   "outputs": [],
   "source": [
    "from evomap.metrics import *\n",
    "\n",
    "misalign_score_t = []\n",
    "persistence_score_t = []\n",
    "\n",
    "for i, X in enumerate([X_t, X_t_indep, X_t_indep_aligned]):\n",
    "    misalign_score_t.append(misalign_score(X))\n",
    "    persistence_score_t.append(persistence_score(X))\n",
    "  \n",
    "metrics = pd.DataFrame({'misalign_score': misalign_score_t, \n",
    "                        'persistence_score': persistence_score_t},\n",
    "                          index = ['EvoMDS', 'Independent MDS', 'Independent MDS + Alignment'])\n",
    "\n",
    "metrics['average_stress'] = [evomds.cost_static_avg_, evomds_indep.cost_static_avg_, evomds_indep.cost_static_avg_]\n",
    "\n",
    "# sort metrics such that the order is Independent MDS, Independent MDS + Alignment, EvoMDS\n",
    "metrics = metrics.reindex(['Independent MDS', 'Independent MDS + Alignment', 'EvoMDS'])\n",
    "metrics.round(4)"
   ]
  },
  {
   "cell_type": "code",
   "execution_count": null,
   "metadata": {},
   "outputs": [],
   "source": [
    "metrics.round(4).to_excel(os.path.join(PATH_OUT, 'sect4_metrics.xlsx'))"
   ]
  },
  {
   "cell_type": "markdown",
   "metadata": {},
   "source": [
    "## Hyperparameter Tuning\n",
    "\n",
    "To facilitate finding good hyperparameters, evomap allows the user to conduct a grid search over a\n",
    "range of hyperparameter values."
   ]
  },
  {
   "cell_type": "markdown",
   "metadata": {},
   "source": [
    "### Using the Grid Search"
   ]
  },
  {
   "cell_type": "markdown",
   "metadata": {},
   "source": [
    "First, define the parameter space across which the grid search shall be completed"
   ]
  },
  {
   "cell_type": "code",
   "execution_count": null,
   "metadata": {},
   "outputs": [],
   "source": [
    "param_grid = {\n",
    "    'alpha': np.linspace(0, 1.5, 15), \n",
    "    'p': [1,2]}"
   ]
  },
  {
   "cell_type": "markdown",
   "metadata": {},
   "source": [
    "Next, define the metrics on which each parameter combination is to be evaluated"
   ]
  },
  {
   "cell_type": "code",
   "execution_count": null,
   "metadata": {},
   "outputs": [],
   "source": [
    "from evomap.metrics import misalign_score, persistence_score, avg_hitrate_score\n",
    "\n",
    "metrics = [misalign_score, persistence_score, avg_hitrate_score]\n",
    "metric_labels = ['Misalignment', 'Persistence', 'Hitrate']"
   ]
  },
  {
   "cell_type": "markdown",
   "metadata": {},
   "source": [
    "Then, perform the grid search:"
   ]
  },
  {
   "cell_type": "code",
   "execution_count": null,
   "metadata": {},
   "outputs": [],
   "source": [
    "model = EvoMDS(init = cmds_t, mds_type = 'ordinal')\n",
    "\n",
    "df_grid_results = model.grid_search(\n",
    "    Xs = D_t, \n",
    "    param_grid = param_grid, \n",
    "    eval_functions =  metrics,\n",
    "    eval_labels = metric_labels, \n",
    "    kwargs = {\"input_format\" : 'dissimilarity'})"
   ]
  },
  {
   "cell_type": "markdown",
   "metadata": {},
   "source": [
    "View the results:"
   ]
  },
  {
   "cell_type": "code",
   "execution_count": null,
   "metadata": {},
   "outputs": [],
   "source": [
    "df_grid_results.head()"
   ]
  },
  {
   "cell_type": "code",
   "execution_count": null,
   "metadata": {},
   "outputs": [],
   "source": [
    "fig, ax = plt.subplots(1,3, figsize = (18, 6))\n",
    "df_grid_results.groupby('p')['Misalignment'].plot(legend = True, ax = ax[0])\n",
    "df_grid_results.groupby('p')['Persistence'].plot(legend = True, ax = ax[1])\n",
    "df_grid_results.groupby('p')['cost_static_avg'].plot(legend = True, ax = ax[2])\n",
    "\n",
    "ax[0].set_title('Hyperparameters vs. Misalignment', fontdict = title_fontdict_large)\n",
    "ax[0].set_xlabel('Alpha', fontdict = label_fontdict)\n",
    "ax[0].set_ylabel('Misalignment', fontdict = label_fontdict_large)\n",
    "ax[0].legend(labels = ['p = 1', 'p = 2'])\n",
    "ax[1].set_title('Hyperparameters vs. Persistence', fontdict = title_fontdict_large)\n",
    "ax[1].set_xlabel('Alpha', fontdict = label_fontdict)\n",
    "ax[1].set_ylabel('Persistence', fontdict = label_fontdict_large)\n",
    "ax[1].legend(labels = ['p = 1', 'p = 2'])\n",
    "ax[2].set_title('Hyperparameters vs. Average Stress', fontdict = title_fontdict_large)\n",
    "ax[2].set_xlabel('Alpha', fontdict = label_fontdict_large)\n",
    "ax[2].set_ylabel('Avg. Stress', fontdict = label_fontdict)\n",
    "ax[2].legend(labels = ['p = 1', 'p = 2'])\n",
    "\n",
    "fig.tight_layout()\n",
    "fig.savefig(os.path.join(PATH_OUT, 'Fig9_grid_search.PNG'), dpi = 300)"
   ]
  },
  {
   "cell_type": "markdown",
   "metadata": {},
   "source": [
    "## Unbalanced Data\n",
    "\n",
    "Dynamic mapping often encounters scenarios where the set of objects changes over time, such\n",
    "as firms entering or exiting a market. The evomap package accommodates such unbalanced\n",
    "data through inclusion vectors.\n",
    "\n",
    "First, we load an unbalanced sample for this illustration:"
   ]
  },
  {
   "cell_type": "code",
   "execution_count": null,
   "metadata": {},
   "outputs": [],
   "source": [
    "data_unbalanced = load_tnic_sample_tech(unbalanced = True)\n",
    "data_unbalanced.groupby('name1').agg({'year': 'nunique'})"
   ]
  },
  {
   "cell_type": "markdown",
   "metadata": {},
   "source": [
    "Then, transform the edgelist into a sequence of square matrices:"
   ]
  },
  {
   "cell_type": "code",
   "execution_count": null,
   "metadata": {},
   "outputs": [],
   "source": [
    "from evomap.preprocessing import edgelist2matrices\n",
    "S_t, labels = edgelist2matrices(\n",
    "    data_unbalanced, \n",
    "    score_var='score', \n",
    "    id_var_i='name1', \n",
    "    id_var_j='name2', \n",
    "    time_var = 'year')"
   ]
  },
  {
   "cell_type": "markdown",
   "metadata": {},
   "source": [
    "As the sample was unbalanced, the resultant matrices have unequal shape:"
   ]
  },
  {
   "cell_type": "code",
   "execution_count": null,
   "metadata": {},
   "outputs": [],
   "source": [
    "print(S_t[0].shape)\n",
    "print(S_t[-1].shape)"
   ]
  },
  {
   "cell_type": "markdown",
   "metadata": {},
   "source": [
    "Thus, we next expand the matrices to a common shape:"
   ]
  },
  {
   "cell_type": "code",
   "execution_count": null,
   "metadata": {},
   "outputs": [],
   "source": [
    "from evomap.preprocessing import expand_matrices\n",
    "S_t, inc_t, labels = expand_matrices(S_t, labels)"
   ]
  },
  {
   "cell_type": "code",
   "execution_count": null,
   "metadata": {},
   "outputs": [],
   "source": [
    "print(S_t[0].shape)"
   ]
  },
  {
   "cell_type": "markdown",
   "metadata": {},
   "source": [
    "The inclusion vectors indicate which objects will be considered by the mapping algorithm in each period:"
   ]
  },
  {
   "cell_type": "code",
   "execution_count": null,
   "metadata": {},
   "outputs": [],
   "source": [
    "print(inc_t[0])"
   ]
  },
  {
   "cell_type": "code",
   "execution_count": null,
   "metadata": {},
   "outputs": [],
   "source": [
    "inc_t[-1]"
   ]
  },
  {
   "cell_type": "markdown",
   "metadata": {},
   "source": [
    "Once the matrices are prepared, we can continue to transform them into dissimilarities as before:"
   ]
  },
  {
   "cell_type": "code",
   "execution_count": null,
   "metadata": {},
   "outputs": [],
   "source": [
    "D_t = []\n",
    "for S in S_t:\n",
    "    D = sim2diss(S, transformation='mirror')\n",
    "    D_t.append(D)"
   ]
  },
  {
   "cell_type": "markdown",
   "metadata": {},
   "source": [
    "We define starting positions:"
   ]
  },
  {
   "cell_type": "code",
   "execution_count": null,
   "metadata": {},
   "outputs": [],
   "source": [
    "inits_ts = [np.concatenate([cmds, np.array([[0,0]])], axis = 0) for cmds in cmds_t]"
   ]
  },
  {
   "cell_type": "markdown",
   "metadata": {},
   "source": [
    "And run EvoMap, passing the inclusion vectors to fit_transform:"
   ]
  },
  {
   "cell_type": "code",
   "execution_count": null,
   "metadata": {},
   "outputs": [],
   "source": [
    "from evomap.mapping import EvoMDS\n",
    "X_t = EvoMDS(alpha = 0.75, \n",
    "             p = 2,  \n",
    "             mds_type = 'ordinal', \n",
    "             init = inits_ts,\n",
    "             verbose=2).fit_transform(D_t, inclusions = inc_t)"
   ]
  },
  {
   "cell_type": "markdown",
   "metadata": {},
   "source": [
    "Finally, we visualize the results in two snapshots. \n",
    "\n",
    "The left snapshot does not include Netflix, which only entered the sample during the observation period, while the right\n",
    "snapshot includes the newly entered firm."
   ]
  },
  {
   "cell_type": "code",
   "execution_count": null,
   "metadata": {},
   "outputs": [],
   "source": [
    "from matplotlib import pyplot as plt   \n",
    "from evomap.printer import draw_map \n",
    "fig, ax = plt.subplots(1,2,figsize=(14, 6))\n",
    "draw_map(X_t[0], \n",
    "         inclusions = inc_t[0], \n",
    "         label = labels, \n",
    "         ax = ax[0], \n",
    "         show_axes=True, \n",
    "         title = 'A: Snapshot in {0}'.format(periods[0]))\n",
    "draw_map(X_t[-1], \n",
    "         inclusions = inc_t[-1], \n",
    "         label = labels, \n",
    "         ax = ax[1], \n",
    "         show_axes = True,\n",
    "         title = 'B: Snapshot in {0}'.format(periods[-1])) \n",
    "fig.tight_layout()\n",
    "fig.savefig(os.path.join(PATH_OUT, 'Fig10_unbalanced.PNG'), dpi = 300)\n",
    "fig"
   ]
  },
  {
   "cell_type": "markdown",
   "metadata": {},
   "source": [
    "# Further Ressources\n",
    "\n",
    "For further usage examples, based on a larger dataset, see https://evomap.readthedocs.io/en/latest/dynamic%20mapping.html"
   ]
  }
 ],
 "metadata": {
  "kernelspec": {
   "display_name": "evomap-package",
   "language": "python",
   "name": "python3"
  },
  "language_info": {
   "codemirror_mode": {
    "name": "ipython",
    "version": 3
   },
   "file_extension": ".py",
   "mimetype": "text/x-python",
   "name": "python",
   "nbconvert_exporter": "python",
   "pygments_lexer": "ipython3",
   "version": "3.9.19"
  },
  "orig_nbformat": 4
 },
 "nbformat": 4,
 "nbformat_minor": 2
}
