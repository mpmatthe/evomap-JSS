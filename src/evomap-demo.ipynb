{
 "cells": [
  {
   "attachments": {},
   "cell_type": "markdown",
   "metadata": {},
   "source": [
    "# Demonstration of the evomap Package\n",
    "\n",
    "Replication notebook for the paper\n",
    "\n",
    "Matthe, Maximilian (2023), \"evomap: A Python Package for Dynamic Mapping\". \n",
    "\n",
    "Python environment: evomap-package\n",
    "\n",
    "ToDo List\n",
    "- Shepard Diagram --> CHeck if order in isotonic regression is really correct? (for shepard diagram AND mds code)"
   ]
  },
  {
   "attachments": {},
   "cell_type": "markdown",
   "metadata": {},
   "source": [
    "# Setup\n",
    "\n",
    "First, create path variabels for each subfolder and load the essential packages."
   ]
  },
  {
   "cell_type": "code",
   "execution_count": 115,
   "metadata": {},
   "outputs": [],
   "source": [
    "import pandas as pd\n",
    "import numpy as np\n",
    "import os\n",
    "\n",
    "PATH_HOME = os.path.dirname(os.getcwd()) # parent folder\n",
    "PATH_OUT = os.path.join(PATH_HOME, 'gen') # output folder\n",
    "\n",
    "title_fontdict_large = {'size': 14, 'family': 'Arial'}\n",
    "title_fontdict = {'size': 12, 'family': 'Arial'}\n",
    "label_fontdict = {'size': 10, 'family': 'Arial'}\n",
    "\n",
    "np.random.seed(123)"
   ]
  },
  {
   "cell_type": "markdown",
   "metadata": {},
   "source": [
    "## TEST: GET TNIC DATA"
   ]
  },
  {
   "cell_type": "code",
   "execution_count": 116,
   "metadata": {},
   "outputs": [],
   "source": [
    "# Create a path variable to the data directory\n",
    "PATH_DATA = os.path.join(PATH_HOME, 'data')\n",
    "\n",
    "# Read the file tnic2_data_merged.csv from there\n",
    "data = pd.read_csv(os.path.join(PATH_DATA, 'tnic2_data_merged.csv'))"
   ]
  },
  {
   "cell_type": "code",
   "execution_count": 117,
   "metadata": {},
   "outputs": [
    {
     "data": {
      "text/html": [
       "<div>\n",
       "<style scoped>\n",
       "    .dataframe tbody tr th:only-of-type {\n",
       "        vertical-align: middle;\n",
       "    }\n",
       "\n",
       "    .dataframe tbody tr th {\n",
       "        vertical-align: top;\n",
       "    }\n",
       "\n",
       "    .dataframe thead th {\n",
       "        text-align: right;\n",
       "    }\n",
       "</style>\n",
       "<table border=\"1\" class=\"dataframe\">\n",
       "  <thead>\n",
       "    <tr style=\"text-align: right;\">\n",
       "      <th></th>\n",
       "      <th>year</th>\n",
       "      <th>score</th>\n",
       "      <th>name1</th>\n",
       "      <th>name2</th>\n",
       "      <th>size1</th>\n",
       "      <th>size2</th>\n",
       "      <th>sic1</th>\n",
       "      <th>sic2</th>\n",
       "    </tr>\n",
       "  </thead>\n",
       "  <tbody>\n",
       "    <tr>\n",
       "      <th>0</th>\n",
       "      <td>1998</td>\n",
       "      <td>0.0035</td>\n",
       "      <td>AAR CORP</td>\n",
       "      <td>AIR T INC</td>\n",
       "      <td>23.254564</td>\n",
       "      <td>3.165932</td>\n",
       "      <td>50</td>\n",
       "      <td>45</td>\n",
       "    </tr>\n",
       "    <tr>\n",
       "      <th>1</th>\n",
       "      <td>1999</td>\n",
       "      <td>0.0229</td>\n",
       "      <td>AAR CORP</td>\n",
       "      <td>AIR T INC</td>\n",
       "      <td>19.306783</td>\n",
       "      <td>3.096773</td>\n",
       "      <td>50</td>\n",
       "      <td>45</td>\n",
       "    </tr>\n",
       "    <tr>\n",
       "      <th>2</th>\n",
       "      <td>2000</td>\n",
       "      <td>0.0312</td>\n",
       "      <td>AAR CORP</td>\n",
       "      <td>AIR T INC</td>\n",
       "      <td>19.419526</td>\n",
       "      <td>3.289377</td>\n",
       "      <td>50</td>\n",
       "      <td>45</td>\n",
       "    </tr>\n",
       "    <tr>\n",
       "      <th>3</th>\n",
       "      <td>2001</td>\n",
       "      <td>0.0483</td>\n",
       "      <td>AAR CORP</td>\n",
       "      <td>AIR T INC</td>\n",
       "      <td>19.094313</td>\n",
       "      <td>3.087718</td>\n",
       "      <td>50</td>\n",
       "      <td>45</td>\n",
       "    </tr>\n",
       "    <tr>\n",
       "      <th>4</th>\n",
       "      <td>2002</td>\n",
       "      <td>0.0568</td>\n",
       "      <td>AAR CORP</td>\n",
       "      <td>AIR T INC</td>\n",
       "      <td>11.972030</td>\n",
       "      <td>1.959806</td>\n",
       "      <td>50</td>\n",
       "      <td>45</td>\n",
       "    </tr>\n",
       "  </tbody>\n",
       "</table>\n",
       "</div>"
      ],
      "text/plain": [
       "   year   score     name1      name2      size1     size2 sic1 sic2\n",
       "0  1998  0.0035  AAR CORP  AIR T INC  23.254564  3.165932   50   45\n",
       "1  1999  0.0229  AAR CORP  AIR T INC  19.306783  3.096773   50   45\n",
       "2  2000  0.0312  AAR CORP  AIR T INC  19.419526  3.289377   50   45\n",
       "3  2001  0.0483  AAR CORP  AIR T INC  19.094313  3.087718   50   45\n",
       "4  2002  0.0568  AAR CORP  AIR T INC  11.972030  1.959806   50   45"
      ]
     },
     "execution_count": 117,
     "metadata": {},
     "output_type": "execute_result"
    }
   ],
   "source": [
    "# select the following columns from this dataframe: year, score, name1, same2, mkvalt1, mkvalt2, sic1, sic2\n",
    "data = data[['year', 'score', 'name1', 'name2', 'mkvalt1', 'mkvalt2', 'sic1', 'sic2']]\n",
    "data = data.dropna()\n",
    "data.sic1 = data.sic1.astype(int).astype(str).map(lambda x: x[:2])\n",
    "data.sic2 = data.sic2.astype(int).astype(str).map(lambda x: x[:2])\n",
    "# Rename the two columns mkvalt1 and mkvalt2 to size1 and size2\n",
    "data = data.rename(columns={'mkvalt1': 'size1', 'mkvalt2': 'size2'})\n",
    "data['size1'] = data['size1'].map(np.sqrt)\n",
    "data['size2'] = data['size2'].map(np.sqrt)\n",
    "data.head()"
   ]
  },
  {
   "cell_type": "code",
   "execution_count": 118,
   "metadata": {},
   "outputs": [
    {
     "data": {
      "text/html": [
       "<div>\n",
       "<style scoped>\n",
       "    .dataframe tbody tr th:only-of-type {\n",
       "        vertical-align: middle;\n",
       "    }\n",
       "\n",
       "    .dataframe tbody tr th {\n",
       "        vertical-align: top;\n",
       "    }\n",
       "\n",
       "    .dataframe thead th {\n",
       "        text-align: right;\n",
       "    }\n",
       "</style>\n",
       "<table border=\"1\" class=\"dataframe\">\n",
       "  <thead>\n",
       "    <tr style=\"text-align: right;\">\n",
       "      <th></th>\n",
       "      <th>year</th>\n",
       "      <th>score</th>\n",
       "      <th>name1</th>\n",
       "      <th>name2</th>\n",
       "      <th>size1</th>\n",
       "      <th>size2</th>\n",
       "      <th>sic1</th>\n",
       "      <th>sic2</th>\n",
       "    </tr>\n",
       "  </thead>\n",
       "  <tbody>\n",
       "    <tr>\n",
       "      <th>192079</th>\n",
       "      <td>2004</td>\n",
       "      <td>0.0134</td>\n",
       "      <td>HP INC</td>\n",
       "      <td>AVX CORP</td>\n",
       "      <td>233.055319</td>\n",
       "      <td>46.029325</td>\n",
       "      <td>35</td>\n",
       "      <td>36</td>\n",
       "    </tr>\n",
       "    <tr>\n",
       "      <th>192080</th>\n",
       "      <td>2004</td>\n",
       "      <td>0.0189</td>\n",
       "      <td>HP INC</td>\n",
       "      <td>SKYWORKS SOLUTIONS INC</td>\n",
       "      <td>233.055319</td>\n",
       "      <td>38.457688</td>\n",
       "      <td>35</td>\n",
       "      <td>36</td>\n",
       "    </tr>\n",
       "    <tr>\n",
       "      <th>192081</th>\n",
       "      <td>2007</td>\n",
       "      <td>0.0033</td>\n",
       "      <td>HP INC</td>\n",
       "      <td>SKYWORKS SOLUTIONS INC</td>\n",
       "      <td>365.129593</td>\n",
       "      <td>38.162194</td>\n",
       "      <td>35</td>\n",
       "      <td>36</td>\n",
       "    </tr>\n",
       "    <tr>\n",
       "      <th>192082</th>\n",
       "      <td>1999</td>\n",
       "      <td>0.0009</td>\n",
       "      <td>HP INC</td>\n",
       "      <td>AMERICAN SOFTWARE  -CL A</td>\n",
       "      <td>272.995353</td>\n",
       "      <td>13.031308</td>\n",
       "      <td>35</td>\n",
       "      <td>73</td>\n",
       "    </tr>\n",
       "    <tr>\n",
       "      <th>192083</th>\n",
       "      <td>2000</td>\n",
       "      <td>0.0290</td>\n",
       "      <td>HP INC</td>\n",
       "      <td>AMERICAN SOFTWARE  -CL A</td>\n",
       "      <td>300.915284</td>\n",
       "      <td>5.786634</td>\n",
       "      <td>35</td>\n",
       "      <td>73</td>\n",
       "    </tr>\n",
       "    <tr>\n",
       "      <th>...</th>\n",
       "      <td>...</td>\n",
       "      <td>...</td>\n",
       "      <td>...</td>\n",
       "      <td>...</td>\n",
       "      <td>...</td>\n",
       "      <td>...</td>\n",
       "      <td>...</td>\n",
       "      <td>...</td>\n",
       "    </tr>\n",
       "    <tr>\n",
       "      <th>192699</th>\n",
       "      <td>2017</td>\n",
       "      <td>0.0061</td>\n",
       "      <td>HP INC</td>\n",
       "      <td>COGNIZANT TECH SOLUTIONS</td>\n",
       "      <td>188.542963</td>\n",
       "      <td>204.352049</td>\n",
       "      <td>35</td>\n",
       "      <td>73</td>\n",
       "    </tr>\n",
       "    <tr>\n",
       "      <th>192700</th>\n",
       "      <td>1998</td>\n",
       "      <td>0.0199</td>\n",
       "      <td>HP INC</td>\n",
       "      <td>ECHELON CORP</td>\n",
       "      <td>247.341931</td>\n",
       "      <td>11.229609</td>\n",
       "      <td>35</td>\n",
       "      <td>35</td>\n",
       "    </tr>\n",
       "    <tr>\n",
       "      <th>192701</th>\n",
       "      <td>1999</td>\n",
       "      <td>0.0472</td>\n",
       "      <td>HP INC</td>\n",
       "      <td>ECHELON CORP</td>\n",
       "      <td>272.995353</td>\n",
       "      <td>25.500147</td>\n",
       "      <td>35</td>\n",
       "      <td>35</td>\n",
       "    </tr>\n",
       "    <tr>\n",
       "      <th>192702</th>\n",
       "      <td>2015</td>\n",
       "      <td>0.0156</td>\n",
       "      <td>HP INC</td>\n",
       "      <td>ECHELON CORP</td>\n",
       "      <td>220.518172</td>\n",
       "      <td>4.990615</td>\n",
       "      <td>35</td>\n",
       "      <td>35</td>\n",
       "    </tr>\n",
       "    <tr>\n",
       "      <th>192703</th>\n",
       "      <td>2005</td>\n",
       "      <td>0.0083</td>\n",
       "      <td>HP INC</td>\n",
       "      <td>EBAY INC</td>\n",
       "      <td>282.054916</td>\n",
       "      <td>246.350947</td>\n",
       "      <td>35</td>\n",
       "      <td>73</td>\n",
       "    </tr>\n",
       "  </tbody>\n",
       "</table>\n",
       "<p>625 rows × 8 columns</p>\n",
       "</div>"
      ],
      "text/plain": [
       "        year   score   name1                     name2       size1  \\\n",
       "192079  2004  0.0134  HP INC                  AVX CORP  233.055319   \n",
       "192080  2004  0.0189  HP INC    SKYWORKS SOLUTIONS INC  233.055319   \n",
       "192081  2007  0.0033  HP INC    SKYWORKS SOLUTIONS INC  365.129593   \n",
       "192082  1999  0.0009  HP INC  AMERICAN SOFTWARE  -CL A  272.995353   \n",
       "192083  2000  0.0290  HP INC  AMERICAN SOFTWARE  -CL A  300.915284   \n",
       "...      ...     ...     ...                       ...         ...   \n",
       "192699  2017  0.0061  HP INC  COGNIZANT TECH SOLUTIONS  188.542963   \n",
       "192700  1998  0.0199  HP INC              ECHELON CORP  247.341931   \n",
       "192701  1999  0.0472  HP INC              ECHELON CORP  272.995353   \n",
       "192702  2015  0.0156  HP INC              ECHELON CORP  220.518172   \n",
       "192703  2005  0.0083  HP INC                  EBAY INC  282.054916   \n",
       "\n",
       "             size2 sic1 sic2  \n",
       "192079   46.029325   35   36  \n",
       "192080   38.457688   35   36  \n",
       "192081   38.162194   35   36  \n",
       "192082   13.031308   35   73  \n",
       "192083    5.786634   35   73  \n",
       "...            ...  ...  ...  \n",
       "192699  204.352049   35   73  \n",
       "192700   11.229609   35   35  \n",
       "192701   25.500147   35   35  \n",
       "192702    4.990615   35   35  \n",
       "192703  246.350947   35   73  \n",
       "\n",
       "[625 rows x 8 columns]"
      ]
     },
     "execution_count": 118,
     "metadata": {},
     "output_type": "execute_result"
    }
   ],
   "source": [
    "data.query('name1 == \"HP INC\"')"
   ]
  },
  {
   "cell_type": "markdown",
   "metadata": {},
   "source": [
    "# Section 1: Quick Illustration\n",
    "\n",
    "This first section provides a quick illustration of how EvoMap can be applied using the evomap package. The section also highlights the differences between applying EvoMap vs. applying existent static mapping methods.\n",
    "\n",
    "## Loading the Data\n",
    "\n",
    "For this illustration, we use a small sample from the TNIC data available through the dataset submodule"
   ]
  },
  {
   "cell_type": "code",
   "execution_count": 119,
   "metadata": {},
   "outputs": [],
   "source": [
    "#from evomap.datasets import load_tnic_sample_small\n",
    "#data = load_tnic_sample_small()\n",
    "#labels = data[data['sic1'].map(lambda x: x.startswith(\"36\"))].groupby('name1').agg({'year':'nunique'}).query('year == 20').index.values\n",
    "#labels = [label for label in labels if not label == \"CALAMP CORP\"] # Exclude calamp corp, as it has no connections to the others in one period\n",
    "#labels\n",
    "#data.head()"
   ]
  },
  {
   "cell_type": "markdown",
   "metadata": {},
   "source": [
    "The sample is organized as an edgelist where each observation corresponds to a single firm x firm pair.\n",
    "\n",
    "For this simple example, we select only a few firms, drop all other firms, and remove the gvkey identifier. \n",
    "\n",
    "#TODO: Save either the full data (including all 10 firms), or the smaller sample including 8 firms as another dataset in the dataset module!"
   ]
  },
  {
   "cell_type": "code",
   "execution_count": 120,
   "metadata": {},
   "outputs": [
    {
     "data": {
      "text/html": [
       "<div>\n",
       "<style scoped>\n",
       "    .dataframe tbody tr th:only-of-type {\n",
       "        vertical-align: middle;\n",
       "    }\n",
       "\n",
       "    .dataframe tbody tr th {\n",
       "        vertical-align: top;\n",
       "    }\n",
       "\n",
       "    .dataframe thead th {\n",
       "        text-align: right;\n",
       "    }\n",
       "</style>\n",
       "<table border=\"1\" class=\"dataframe\">\n",
       "  <thead>\n",
       "    <tr style=\"text-align: right;\">\n",
       "      <th></th>\n",
       "      <th>year</th>\n",
       "      <th>name1</th>\n",
       "      <th>name2</th>\n",
       "      <th>score</th>\n",
       "      <th>sic1</th>\n",
       "      <th>sic2</th>\n",
       "      <th>size1</th>\n",
       "      <th>size2</th>\n",
       "    </tr>\n",
       "  </thead>\n",
       "  <tbody>\n",
       "    <tr>\n",
       "      <th>0</th>\n",
       "      <td>1998</td>\n",
       "      <td>APPLE INC</td>\n",
       "      <td>WESTERN DIGITAL CORP</td>\n",
       "      <td>0.0657</td>\n",
       "      <td>36</td>\n",
       "      <td>35</td>\n",
       "      <td>71.792988</td>\n",
       "      <td>32.294908</td>\n",
       "    </tr>\n",
       "    <tr>\n",
       "      <th>1</th>\n",
       "      <td>1998</td>\n",
       "      <td>APPLE INC</td>\n",
       "      <td>MICROSOFT CORP</td>\n",
       "      <td>0.0601</td>\n",
       "      <td>36</td>\n",
       "      <td>73</td>\n",
       "      <td>71.792988</td>\n",
       "      <td>517.384045</td>\n",
       "    </tr>\n",
       "    <tr>\n",
       "      <th>2</th>\n",
       "      <td>1998</td>\n",
       "      <td>APPLE INC</td>\n",
       "      <td>ORACLE CORP</td>\n",
       "      <td>0.0355</td>\n",
       "      <td>36</td>\n",
       "      <td>73</td>\n",
       "      <td>71.792988</td>\n",
       "      <td>188.441005</td>\n",
       "    </tr>\n",
       "    <tr>\n",
       "      <th>3</th>\n",
       "      <td>1998</td>\n",
       "      <td>AT&amp;T INC</td>\n",
       "      <td>US CELLULAR CORP</td>\n",
       "      <td>0.0761</td>\n",
       "      <td>48</td>\n",
       "      <td>48</td>\n",
       "      <td>324.142356</td>\n",
       "      <td>57.620292</td>\n",
       "    </tr>\n",
       "    <tr>\n",
       "      <th>4</th>\n",
       "      <td>1998</td>\n",
       "      <td>EBAY INC</td>\n",
       "      <td>MICROSOFT CORP</td>\n",
       "      <td>0.0281</td>\n",
       "      <td>73</td>\n",
       "      <td>73</td>\n",
       "      <td>98.544590</td>\n",
       "      <td>517.384045</td>\n",
       "    </tr>\n",
       "  </tbody>\n",
       "</table>\n",
       "</div>"
      ],
      "text/plain": [
       "   year      name1                 name2   score sic1 sic2       size1  \\\n",
       "0  1998  APPLE INC  WESTERN DIGITAL CORP  0.0657   36   35   71.792988   \n",
       "1  1998  APPLE INC        MICROSOFT CORP  0.0601   36   73   71.792988   \n",
       "2  1998  APPLE INC           ORACLE CORP  0.0355   36   73   71.792988   \n",
       "3  1998   AT&T INC      US CELLULAR CORP  0.0761   48   48  324.142356   \n",
       "4  1998   EBAY INC        MICROSOFT CORP  0.0281   73   73   98.544590   \n",
       "\n",
       "        size2  \n",
       "0   32.294908  \n",
       "1  517.384045  \n",
       "2  188.441005  \n",
       "3   57.620292  \n",
       "4  517.384045  "
      ]
     },
     "execution_count": 120,
     "metadata": {},
     "output_type": "execute_result"
    }
   ],
   "source": [
    "labels = np.array([\n",
    "    'ADOBE INC', 'MICROSOFT CORP', 'CITRIX SYSTEMS INC', 'HP INC',\n",
    "       'WESTERN DIGITAL CORP', 'NETAPP INC', 'SONIC FOUNDRY INC',\n",
    "       'NORTONLIFELOCK INC', 'NUANCE COMMUNICATIONS INC', 'TIVO CORP',\n",
    "       'MICROSTRATEGY INC', 'FALCONSTOR SOFTWARE INC'])\n",
    "\n",
    "selected_names = np.array([\n",
    "\t'US CELLULAR CORP', \n",
    "\t'AT&T INC', \n",
    "#\t'COMCAST CORP', \n",
    "\t'MICROSOFT CORP', \n",
    "\t'WESTERN DIGITAL CORP',\n",
    "#\t'HP INC', \n",
    "\t'ORACLE CORP', \n",
    "\t'EBAY INC', \n",
    "\t'INTUIT INC', \n",
    "\t'APPLE INC'])\n",
    "\n",
    "\n",
    "data = data.query('name1 in @selected_names').query('name2 in @selected_names')\n",
    "data = data[['year', 'name1', 'name2', 'score', 'sic1', 'sic2', 'size1', 'size2']]\n",
    "data = data.sort_values(['year', 'name1'])\n",
    "data.index = range(len(data))\n",
    "periods = data.year.unique()\n",
    "n_periods = len(periods)\n",
    "data.head()"
   ]
  },
  {
   "cell_type": "code",
   "execution_count": 121,
   "metadata": {},
   "outputs": [
    {
     "data": {
      "text/html": [
       "<div>\n",
       "<style scoped>\n",
       "    .dataframe tbody tr th:only-of-type {\n",
       "        vertical-align: middle;\n",
       "    }\n",
       "\n",
       "    .dataframe tbody tr th {\n",
       "        vertical-align: top;\n",
       "    }\n",
       "\n",
       "    .dataframe thead th {\n",
       "        text-align: right;\n",
       "    }\n",
       "</style>\n",
       "<table border=\"1\" class=\"dataframe\">\n",
       "  <thead>\n",
       "    <tr style=\"text-align: right;\">\n",
       "      <th></th>\n",
       "      <th>year</th>\n",
       "    </tr>\n",
       "    <tr>\n",
       "      <th>name1</th>\n",
       "      <th></th>\n",
       "    </tr>\n",
       "  </thead>\n",
       "  <tbody>\n",
       "    <tr>\n",
       "      <th>APPLE INC</th>\n",
       "      <td>20</td>\n",
       "    </tr>\n",
       "    <tr>\n",
       "      <th>AT&amp;T INC</th>\n",
       "      <td>20</td>\n",
       "    </tr>\n",
       "    <tr>\n",
       "      <th>EBAY INC</th>\n",
       "      <td>20</td>\n",
       "    </tr>\n",
       "    <tr>\n",
       "      <th>INTUIT INC</th>\n",
       "      <td>20</td>\n",
       "    </tr>\n",
       "    <tr>\n",
       "      <th>MICROSOFT CORP</th>\n",
       "      <td>20</td>\n",
       "    </tr>\n",
       "    <tr>\n",
       "      <th>ORACLE CORP</th>\n",
       "      <td>20</td>\n",
       "    </tr>\n",
       "    <tr>\n",
       "      <th>US CELLULAR CORP</th>\n",
       "      <td>20</td>\n",
       "    </tr>\n",
       "    <tr>\n",
       "      <th>WESTERN DIGITAL CORP</th>\n",
       "      <td>20</td>\n",
       "    </tr>\n",
       "  </tbody>\n",
       "</table>\n",
       "</div>"
      ],
      "text/plain": [
       "                      year\n",
       "name1                     \n",
       "APPLE INC               20\n",
       "AT&T INC                20\n",
       "EBAY INC                20\n",
       "INTUIT INC              20\n",
       "MICROSOFT CORP          20\n",
       "ORACLE CORP             20\n",
       "US CELLULAR CORP        20\n",
       "WESTERN DIGITAL CORP    20"
      ]
     },
     "execution_count": 121,
     "metadata": {},
     "output_type": "execute_result"
    }
   ],
   "source": [
    "# Check if the panel is balanced: If not, drop some or use inclusio nvectors\n",
    "data.groupby('name1').agg({'year':'nunique'})"
   ]
  },
  {
   "cell_type": "code",
   "execution_count": 122,
   "metadata": {},
   "outputs": [],
   "source": [
    "table_1 = pd.concat([data.head(), data.tail()], axis = 0)\n",
    "table_1.to_excel(os.path.join(PATH_OUT, \"table2-data-overview.xlsx\"))"
   ]
  },
  {
   "cell_type": "markdown",
   "metadata": {},
   "source": [
    "Next, transform the edgelist into a sequence of similarity matrices"
   ]
  },
  {
   "cell_type": "code",
   "execution_count": 123,
   "metadata": {},
   "outputs": [],
   "source": [
    "from evomap.preprocessing import edgelist2matrices\n",
    "S_t, labels_t = edgelist2matrices(\n",
    "    data, \n",
    "    score_var = 'score', \n",
    "    id_var_i = 'name1', \n",
    "    id_var_j ='name2', \n",
    "    time_var = 'year')"
   ]
  },
  {
   "cell_type": "markdown",
   "metadata": {},
   "source": [
    "The result is a sequence of matrices and a sequence of labels. As the sample is balanced, all labels remain the same over time in this example. Therefore, we simply use the first list of labels in what follows. "
   ]
  },
  {
   "cell_type": "code",
   "execution_count": 124,
   "metadata": {},
   "outputs": [
    {
     "data": {
      "text/plain": [
       "array([[0.  , 0.  , 0.  , 0.  , 0.06],\n",
       "       [0.  , 0.  , 0.  , 0.  , 0.  ],\n",
       "       [0.  , 0.  , 0.  , 0.09, 0.03],\n",
       "       [0.  , 0.  , 0.09, 0.  , 0.05],\n",
       "       [0.06, 0.  , 0.03, 0.05, 0.  ]])"
      ]
     },
     "execution_count": 124,
     "metadata": {},
     "output_type": "execute_result"
    }
   ],
   "source": [
    "S_t[0][:5, :5].round(2)"
   ]
  },
  {
   "cell_type": "markdown",
   "metadata": {},
   "source": [
    "Next, transform each similarity matrix into a dissimilarity matrix"
   ]
  },
  {
   "cell_type": "code",
   "execution_count": 125,
   "metadata": {},
   "outputs": [],
   "source": [
    "from evomap.preprocessing import sim2diss\n",
    "D_t = []\n",
    "for S in S_t:\n",
    "    D_t.append(sim2diss(S, transformation = 'mirror'))"
   ]
  },
  {
   "cell_type": "markdown",
   "metadata": {},
   "source": [
    "Preview a single dissimilarity matrix"
   ]
  },
  {
   "cell_type": "code",
   "execution_count": 126,
   "metadata": {},
   "outputs": [
    {
     "data": {
      "text/plain": [
       "array([[0.    , 1.    , 1.    , 1.    , 0.9399],\n",
       "       [1.    , 0.    , 1.    , 1.    , 1.    ],\n",
       "       [1.    , 1.    , 0.    , 0.9147, 0.9719],\n",
       "       [1.    , 1.    , 0.9147, 0.    , 0.9464],\n",
       "       [0.9399, 1.    , 0.9719, 0.9464, 0.    ]])"
      ]
     },
     "execution_count": 126,
     "metadata": {},
     "output_type": "execute_result"
    }
   ],
   "source": [
    "D_t[0][:5, :5]"
   ]
  },
  {
   "cell_type": "markdown",
   "metadata": {},
   "source": [
    "## Static Mapping via MDS"
   ]
  },
  {
   "cell_type": "markdown",
   "metadata": {},
   "source": [
    "To map this similarity matrix via MDS, we first transform it into dissimilarities using the sim2diss function from the preprocessing submodule"
   ]
  },
  {
   "cell_type": "code",
   "execution_count": 127,
   "metadata": {},
   "outputs": [],
   "source": [
    "D = D_t[0]    \n",
    "labels = labels_t[0]\n",
    "n_samples = len(labels)"
   ]
  },
  {
   "attachments": {},
   "cell_type": "markdown",
   "metadata": {},
   "source": [
    "Then, we run ordinal MDS, initialized via Classical Scaling."
   ]
  },
  {
   "cell_type": "code",
   "execution_count": 128,
   "metadata": {},
   "outputs": [],
   "source": [
    "from evomap.mapping import MDS\n",
    "X = MDS(init = 'cmds', mds_type = 'ordinal').fit_transform(D)"
   ]
  },
  {
   "cell_type": "markdown",
   "metadata": {},
   "source": [
    "Plot the results using the draw_map function from the printer submodule"
   ]
  },
  {
   "cell_type": "code",
   "execution_count": 129,
   "metadata": {},
   "outputs": [],
   "source": [
    "from matplotlib import pyplot as plt\n",
    "from evomap.printer import draw_map\n",
    "\n",
    "fig, ax = plt.subplots(1,2, figsize = (12,6))\n",
    "draw_map(\n",
    "    X, \n",
    "    label = labels, \n",
    "    show_axes = True, \n",
    "    axes_at_origin = False, \n",
    "    show_grid = False, \n",
    "    title = 'A: Non-Metric MDS Map \\n', ax = ax[0])"
   ]
  },
  {
   "cell_type": "markdown",
   "metadata": {},
   "source": [
    "Next, add the Shepard diagram"
   ]
  },
  {
   "cell_type": "code",
   "execution_count": 130,
   "metadata": {},
   "outputs": [
    {
     "data": {
      "text/plain": [
       "<matplotlib.legend.Legend at 0x30729a730>"
      ]
     },
     "execution_count": 130,
     "metadata": {},
     "output_type": "execute_result"
    }
   ],
   "source": [
    "from evomap.printer import draw_shepard_diagram\n",
    "    \n",
    "draw_shepard_diagram(X,D, ax = ax[1])\n",
    "ax[1].set_title('B: Shepard Diagramm \\n', fontdict= title_fontdict_large)\n",
    "ax[1].legend(['Observed dissimilarities', 'Transformed dissimilariites'], loc = 4, prop = label_fontdict)"
   ]
  },
  {
   "cell_type": "markdown",
   "metadata": {},
   "source": [
    "and display the resulting Figure"
   ]
  },
  {
   "cell_type": "code",
   "execution_count": 131,
   "metadata": {},
   "outputs": [
    {
     "data": {
      "image/png": "[encoded data removed]",
      "text/plain": [
       "<Figure size 1200x600 with 2 Axes>"
      ]
     },
     "execution_count": 131,
     "metadata": {},
     "output_type": "execute_result"
    }
   ],
   "source": [
    "fig.tight_layout()\n",
    "fig.savefig(os.path.join(PATH_OUT, 'sect1_mds_statc.PNG'), dpi = 300)\n",
    "fig"
   ]
  },
  {
   "cell_type": "markdown",
   "metadata": {},
   "source": [
    "## Dynamic Mapping via EvoMap"
   ]
  },
  {
   "cell_type": "markdown",
   "metadata": {},
   "source": [
    "First, create fixed starting configurations to initialize the optimization routine and ensure reproducibility. "
   ]
  },
  {
   "cell_type": "code",
   "execution_count": 132,
   "metadata": {},
   "outputs": [],
   "source": [
    "from evomap.mapping import CMDS\n",
    "cmds_t = []\n",
    "for t in range(n_periods):\n",
    "    cmds = CMDS().fit_transform(D_t[t])\n",
    "    cmds_t.append(cmds)"
   ]
  },
  {
   "cell_type": "markdown",
   "metadata": {},
   "source": [
    "Then, initialize the model class, and fit configurations to the data.  \n",
    "\n",
    "To create a benchmark of independent mapping, we first use EvoMDS with alpha = 0."
   ]
  },
  {
   "cell_type": "code",
   "execution_count": null,
   "metadata": {},
   "outputs": [],
   "source": [
    "from evomap.mapping import EvoMDS\n",
    "evomds_indep = EvoMDS(alpha = 0, verbose = 2, init = cmds_t, mds_type = 'ordinal')\n",
    "X_t_indep = evomds_indep.fit_transform(D_t)"
   ]
  },
  {
   "cell_type": "markdown",
   "metadata": {},
   "source": [
    "Display the first and last snapshot:"
   ]
  },
  {
   "cell_type": "code",
   "execution_count": null,
   "metadata": {},
   "outputs": [],
   "source": [
    "fig, ax = plt.subplots(1,2, figsize = (12,6))\n",
    "draw_map(X_t_indep[0], label = labels, ax = ax[0])\n",
    "draw_map(X_t_indep[-1], label = labels, ax = ax[1])\n",
    "fig"
   ]
  },
  {
   "cell_type": "markdown",
   "metadata": {},
   "source": [
    "As a second benchmark, align the independently created configurations using Procrustes."
   ]
  },
  {
   "cell_type": "code",
   "execution_count": null,
   "metadata": {},
   "outputs": [],
   "source": [
    "from evomap.transform import align_maps\n",
    "X_t_indep_aligned = align_maps(X_t_indep, X_t_indep[0])"
   ]
  },
  {
   "attachments": {},
   "cell_type": "markdown",
   "metadata": {},
   "source": [
    "Finally, run EvoMap with MDS setting alpha to a positive value:"
   ]
  },
  {
   "cell_type": "code",
   "execution_count": null,
   "metadata": {},
   "outputs": [],
   "source": [
    "from evomap.mapping import EvoMDS\n",
    "\n",
    "# Interval with 1.15\n",
    "evomds = EvoMDS(alpha = 1.15, mds_type = 'interval', init = cmds_t, verbose=2)\n",
    "X_t = evomds.fit_transform(D_t) "
   ]
  },
  {
   "cell_type": "markdown",
   "metadata": {},
   "source": [
    " Show all results side by side:\n",
    " \n",
    " #TODO: Check why label sizes look so different when not setting them manually"
   ]
  },
  {
   "cell_type": "code",
   "execution_count": null,
   "metadata": {},
   "outputs": [],
   "source": []
  },
  {
   "cell_type": "code",
   "execution_count": null,
   "metadata": {},
   "outputs": [],
   "source": [
    "from evomap.printer import draw_trajectories\n",
    "fig, ax = plt.subplots(1,3,figsize = (18,6))\n",
    "draw_trajectories(X_t_indep, show_axes= True, labels = data.name1.unique(), period_labels= periods, ax = ax[0])\n",
    "draw_trajectories(X_t_indep_aligned, labels = data.name1.unique(), period_labels= periods, show_axes=True, ax = ax[1])\n",
    "draw_trajectories(X_t, labels = data.name1.unique(), period_labels= periods, show_axes = True, ax = ax[2])\n",
    "ax[0].set_xlabel(\"Dimension 1\", fontdict = title_fontdict)\n",
    "ax[0].set_title('Solution A: \\nIndependent Application of Non-Metric MDS\\n', fontdict = title_fontdict)\n",
    "ax[1].set_title('Solution B: \\nEx-Post Alignenment of Non-Metric MDS\\n', fontdict = title_fontdict)\n",
    "ax[2].set_title('Solution C: \\nEvoMap Solution for Non-Metric MDS\\n', fontdict = title_fontdict)\n",
    "\n",
    "ax[1].set_xlabel(\"Dimension 1\", fontdict = title_fontdict)\n",
    "ax[2].set_xlabel(\"Dimension 1\", fontdict = title_fontdict)\n",
    "ax[0].set_ylabel(\"Dimension 2\", fontdict = title_fontdict)\n",
    "ax[1].set_ylabel(\"Dimension 2\", fontdict = title_fontdict)\n",
    "ax[2].set_ylabel(\"Dimension 2\", fontdict = title_fontdict)\n",
    "fig.tight_layout()\n",
    "fig.savefig(os.path.join(PATH_OUT, 'sect1_mds_dynamic.PNG'), dpi = 300)\n",
    "fig"
   ]
  },
  {
   "cell_type": "markdown",
   "metadata": {},
   "source": [
    "## Section 2: Step by Step Instructions"
   ]
  },
  {
   "cell_type": "markdown",
   "metadata": {},
   "source": [
    "#TODO: Outline\n",
    "\n",
    "bare minimum, only use the alpha argument. Without that, simply independent mapping"
   ]
  },
  {
   "cell_type": "code",
   "execution_count": null,
   "metadata": {},
   "outputs": [],
   "source": [
    "evomds = EvoMDS()\n",
    "X_t = evomds.fit_transform(D_t) "
   ]
  },
  {
   "cell_type": "markdown",
   "metadata": {},
   "source": [
    "Output is a list of arrays shape (n_samples, n_dims)"
   ]
  },
  {
   "cell_type": "code",
   "execution_count": null,
   "metadata": {},
   "outputs": [],
   "source": [
    "print(type(X_t))"
   ]
  },
  {
   "cell_type": "code",
   "execution_count": null,
   "metadata": {},
   "outputs": [],
   "source": [
    "print(len(X_t))"
   ]
  },
  {
   "cell_type": "code",
   "execution_count": null,
   "metadata": {},
   "outputs": [],
   "source": [
    "print(X_t[0].round(2))"
   ]
  },
  {
   "cell_type": "markdown",
   "metadata": {},
   "source": [
    "Naturally, the resultant configurations will not be aligned. Instead, they correspond to the results of independently applying MDS at each point in time. "
   ]
  },
  {
   "cell_type": "markdown",
   "metadata": {},
   "source": [
    "Better results: Set alpha to higher levels. In addition, we specify the type of MDS method used (here: interval MDS), and set a higher level of verbosity to obtain more diagnostics. "
   ]
  },
  {
   "cell_type": "code",
   "execution_count": null,
   "metadata": {},
   "outputs": [],
   "source": [
    "from evomap.mapping import EvoMDS\n",
    "\n",
    "evomds = EvoMDS(\n",
    "    alpha = 1.15, \n",
    "    mds_type = 'interval')\n",
    "\n",
    "X_t = evomds.fit_transform(D_t) "
   ]
  },
  {
   "cell_type": "markdown",
   "metadata": {},
   "source": [
    "First snapshot"
   ]
  },
  {
   "cell_type": "code",
   "execution_count": null,
   "metadata": {},
   "outputs": [],
   "source": [
    "draw_map(X_t[0], label = labels, title = 'First snapshot')"
   ]
  },
  {
   "cell_type": "markdown",
   "metadata": {},
   "source": [
    "Last snapshot"
   ]
  },
  {
   "cell_type": "code",
   "execution_count": null,
   "metadata": {},
   "outputs": [],
   "source": [
    "draw_map(X_t[-1], label = labels, show_axes = True)"
   ]
  },
  {
   "cell_type": "markdown",
   "metadata": {},
   "source": [
    "Side by side comparison"
   ]
  },
  {
   "cell_type": "code",
   "execution_count": null,
   "metadata": {},
   "outputs": [],
   "source": [
    "from evomap.printer import draw_map\n",
    "fig, ax = plt.subplots(1,2,figsize = (12,6))\n",
    "\n",
    "draw_map(X_t[0], label = labels, ax = ax[0])\n",
    "draw_map(X_t[-1], label = labels, ax = ax[1])\n",
    "ax[0].set_title('A: EvoMap Snapshot in {0}'.format(periods[0]), fontdict = title_fontdict)\n",
    "ax[1].set_title('B: EvoMap Snapshot in {0}'.format(periods[-1]), fontdict = title_fontdict)\n",
    "fig.tight_layout()\n",
    "fig.savefig(os.path.join(PATH_OUT, 'sect4_evomds_snapshots.PNG'), dpi = 300)\n",
    "fig"
   ]
  },
  {
   "cell_type": "markdown",
   "metadata": {},
   "source": [
    "Result: Much better alignment! "
   ]
  },
  {
   "cell_type": "markdown",
   "metadata": {},
   "source": [
    "## Fixing the starting configuration\n",
    "\n",
    "Thus far, initialized randomly. If one of the cell is run again, output will differ. To change that: Set a fixed init. \n",
    "\n",
    "One way to fix the starting configuration is to manually calculate random numbers: "
   ]
  },
  {
   "cell_type": "code",
   "execution_count": null,
   "metadata": {},
   "outputs": [],
   "source": [
    "init_t = []\n",
    "for t in range(n_periods):\n",
    "    init = np.random.normal(0,.1,(n_samples, 2))\n",
    "    init_t.append(init)"
   ]
  },
  {
   "cell_type": "code",
   "execution_count": null,
   "metadata": {},
   "outputs": [],
   "source": [
    "evomds_init = EvoMDS(alpha = 1.15, mds_type = 'interval', init = init_t)\n",
    "X_t_init = evomds_init.fit_transform(D_t) "
   ]
  },
  {
   "cell_type": "code",
   "execution_count": null,
   "metadata": {},
   "outputs": [],
   "source": [
    "print(\"Final cost when initialized randomlly: {0:.3f}\".format(evomds_init.cost_))"
   ]
  },
  {
   "cell_type": "markdown",
   "metadata": {},
   "source": [
    "Another useful approach, especially for MDS variants, is to use the classical scaling solution as a starting point for the optimization:"
   ]
  },
  {
   "cell_type": "code",
   "execution_count": null,
   "metadata": {},
   "outputs": [],
   "source": [
    "from evomap.mapping import CMDS\n",
    "cmds_t = []\n",
    "for t in range(n_periods):\n",
    "    cmds = CMDS().fit_transform(D_t[t])\n",
    "    cmds_t.append(cmds)"
   ]
  },
  {
   "cell_type": "code",
   "execution_count": null,
   "metadata": {},
   "outputs": [],
   "source": [
    "evomds_cmds = EvoMDS(alpha = 1.15, mds_type = 'interval', init = cmds_t)\n",
    "X_t_cmds = evomds_cmds.fit_transform(D_t) "
   ]
  },
  {
   "cell_type": "code",
   "execution_count": null,
   "metadata": {},
   "outputs": [],
   "source": [
    "evomds_init.cost_static_"
   ]
  },
  {
   "cell_type": "code",
   "execution_count": null,
   "metadata": {},
   "outputs": [],
   "source": [
    "fig, ax = plt.subplots(1,2,figsize = (12,6))\n",
    "draw_map(X_t_init[0], label = labels, ax = ax[0])\n",
    "draw_map(X_t_cmds[0], label = labels, ax = ax[1])\n",
    "ax[0].set_xlabel(evomds_init.costs_static_[0])\n",
    "ax[1].set_xlabel(evomds_cmds.costs_static_[0])\n",
    "fig"
   ]
  },
  {
   "cell_type": "code",
   "execution_count": null,
   "metadata": {},
   "outputs": [],
   "source": [
    "X_t = X_t_cmds"
   ]
  },
  {
   "cell_type": "markdown",
   "metadata": {},
   "source": [
    "### Verbosity"
   ]
  },
  {
   "cell_type": "code",
   "execution_count": null,
   "metadata": {},
   "outputs": [],
   "source": [
    "EvoMDS(\n",
    "    alpha = 1.15, \n",
    "    mds_type = 'interval', \n",
    "    init = cmds_t,\n",
    "    verbose = 0).fit(D_t)"
   ]
  },
  {
   "cell_type": "code",
   "execution_count": null,
   "metadata": {},
   "outputs": [],
   "source": [
    "EvoMDS(\n",
    "    alpha = 1.15, \n",
    "    mds_type = 'interval', \n",
    "    init = cmds_t,\n",
    "    verbose = 1).fit(D_t)"
   ]
  },
  {
   "cell_type": "code",
   "execution_count": null,
   "metadata": {},
   "outputs": [],
   "source": [
    "EvoMDS(\n",
    "    alpha = 1.15, \n",
    "    mds_type = 'interval', \n",
    "    init = cmds_t,\n",
    "    verbose = 2).fit(D_t)"
   ]
  },
  {
   "cell_type": "markdown",
   "metadata": {},
   "source": [
    "## Exploration"
   ]
  },
  {
   "cell_type": "markdown",
   "metadata": {},
   "source": [
    "#### Static Exploration via Draw Map"
   ]
  },
  {
   "cell_type": "markdown",
   "metadata": {},
   "source": [
    "First, store some additional to augment the maps with.\n",
    "\n",
    "SIC codes are categorical industry codes:"
   ]
  },
  {
   "cell_type": "code",
   "execution_count": null,
   "metadata": {},
   "outputs": [],
   "source": [
    "sic_codes = []\n",
    "for firm in labels:\n",
    "    sic_codes.append(data.query('name1 == @firm').sic1.unique()[0])\n",
    "sic_codes"
   ]
  },
  {
   "cell_type": "markdown",
   "metadata": {},
   "source": [
    "Size is a variable proportional to market value:"
   ]
  },
  {
   "cell_type": "code",
   "execution_count": null,
   "metadata": {},
   "outputs": [],
   "source": [
    "sizes = []\n",
    "for firm in labels:\n",
    "    sizes.append(data.query('name1 == @firm').size1.unique()[0])\n",
    "sizes"
   ]
  },
  {
   "cell_type": "markdown",
   "metadata": {},
   "source": [
    "Such variables can be added to the map via the 'c' and 'size' arguments:"
   ]
  },
  {
   "cell_type": "code",
   "execution_count": null,
   "metadata": {},
   "outputs": [],
   "source": [
    "sic = data.sic1\n",
    "\n",
    "fig, ax = plt.subplots(2,2,figsize = (12,10))\n",
    "draw_map(X_t[0], title = periods[0], ax = ax[0,0])\n",
    "draw_map(X_t[0], label = labels, title = periods[0], ax = ax[0,1])\n",
    "draw_map(X_t[0], label = labels, color = sic_codes, show_legend = True, title = periods[0], ax = ax[1,0])\n",
    "draw_map(X_t[0], label = labels, color = sic_codes, size = sizes, title = periods[0], ax = ax[1,1])\n",
    "fig.tight_layout()\n",
    "\n",
    "ax[1,0].legend(title = 'SIC Code', loc = 'lower left')\n",
    "ax[1,1].legend(title = 'SIC Code', loc = 'lower left')\n",
    "\n",
    "fig.savefig(os.path.join(PATH_OUT, 'sect4_draw_map_examples.PNG'), dpi = 300)\n",
    "fig"
   ]
  },
  {
   "cell_type": "markdown",
   "metadata": {},
   "source": [
    "### Draw Map Sequence"
   ]
  },
  {
   "cell_type": "code",
   "execution_count": null,
   "metadata": {},
   "outputs": [],
   "source": [
    "from evomap.printer import draw_map_sequence\n",
    "fig = draw_map_sequence(X_t[:3], \n",
    "                  color = sic_codes,\n",
    "                  label = labels, \n",
    "                  size = sizes,\n",
    "                  fig_size = (15,5),\n",
    "                  n_cols=3,\n",
    "                  time_labels = periods[:4])"
   ]
  },
  {
   "cell_type": "code",
   "execution_count": null,
   "metadata": {},
   "outputs": [],
   "source": [
    "from evomap.printer import draw_map_sequence\n",
    "fig = draw_map_sequence(X_t[:3], \n",
    "                  color = sic_codes,\n",
    "                  label = labels, \n",
    "                  size = sizes,\n",
    "                  fig_size = (15,5),\n",
    "                  n_cols=3,\n",
    "                  time_labels = periods[:4])\n",
    "\n",
    "fig.savefig(os.path.join(PATH_OUT, 'sect4_draw_map_sequence.PNG'), dpi = 300)\n",
    "fig"
   ]
  },
  {
   "cell_type": "markdown",
   "metadata": {},
   "source": [
    "### Advanced: Adjust Figure Layout"
   ]
  },
  {
   "cell_type": "code",
   "execution_count": null,
   "metadata": {},
   "outputs": [],
   "source": [
    "fig, ax = plt.subplots(2,2, figsize = (12,12))\n",
    "draw_map(X, label = labels, show_axes = True, axes_at_origin = False, show_grid = False, ax = ax[0,0])\n",
    "draw_map(X, label = labels, show_axes = True, axes_at_origin = False, show_grid = True, ax = ax[0,1])\n",
    "draw_map(X, label = labels, show_axes = False, axes_at_origin = False, show_grid = False, ax = ax[1,0])\n",
    "draw_map(X, label = labels, show_axes = True, axes_at_origin = True, show_grid = False, ax = ax[1,1])\n",
    "fig.savefig(os.path.join(PATH_OUT, 'sect4_draw_map_options.PNG'), dpi = 300)\n",
    "fig"
   ]
  },
  {
   "cell_type": "markdown",
   "metadata": {},
   "source": [
    "## Drawing Dynamic Maps"
   ]
  },
  {
   "cell_type": "markdown",
   "metadata": {},
   "source": [
    "### Dynamic Map"
   ]
  },
  {
   "cell_type": "code",
   "execution_count": null,
   "metadata": {},
   "outputs": [],
   "source": [
    "sic_codes_t = []\n",
    "sizes_t = []\n",
    "for t in range(n_periods):\n",
    "    # get data in period t\n",
    "    data_this = data.query('year == @periods[@t]')\n",
    "    # get all sic codes in period t\n",
    "    sic_this = []\n",
    "    for firm in labels:\n",
    "        sic_this.append(data_this.query('name1 == @firm').sic1.unique()[0])\n",
    "\n",
    "    sic_codes_t.append(np.array(sic_this))    \n",
    "\n",
    "    sizes_this = []\n",
    "    for firm in labels:\n",
    "        sizes_this.append(data_this.query('name1 == @firm').size1.unique()[0])\n",
    "    \n",
    "    sizes_t.append(np.array(sizes_this))\n"
   ]
  },
  {
   "cell_type": "code",
   "execution_count": null,
   "metadata": {},
   "outputs": [],
   "source": [
    "fig, ax = plt.subplots(1,2, figsize = (12,6))\n",
    "\n",
    "from evomap.printer import draw_dynamic_map\n",
    "draw_dynamic_map(X_t,\n",
    "                 label = labels,\n",
    "                 color_t = sic_codes_t,\n",
    "                 size_t = sizes_t,\n",
    "                 show_arrows = True,\n",
    "                 title = 'A: Dynamic Map',\n",
    "                 ax = ax[0])"
   ]
  },
  {
   "cell_type": "markdown",
   "metadata": {},
   "source": [
    "### Draw Trajectories"
   ]
  },
  {
   "cell_type": "code",
   "execution_count": null,
   "metadata": {},
   "outputs": [],
   "source": [
    "draw_trajectories(X_t, \n",
    "                  labels = labels, \n",
    "                  period_labels = periods, \n",
    "                  title = \"B: Trajectories\", \n",
    "                  ax = ax[1])"
   ]
  },
  {
   "cell_type": "code",
   "execution_count": null,
   "metadata": {},
   "outputs": [],
   "source": [
    "fig.tight_layout()\n",
    "fig.savefig(os.path.join(PATH_OUT, 'sect4_dynamic_map_and_trajectories.PNG'), dpi = 300)\n",
    "fig"
   ]
  },
  {
   "cell_type": "markdown",
   "metadata": {},
   "source": [
    "## Evaluation"
   ]
  },
  {
   "cell_type": "code",
   "execution_count": null,
   "metadata": {},
   "outputs": [],
   "source": [
    "evomds_indep = EvoMDS(alpha = 0, verbose = 2, mds_type= 'ordinal').fit(D_t)"
   ]
  },
  {
   "cell_type": "code",
   "execution_count": null,
   "metadata": {},
   "outputs": [],
   "source": [
    "evomds_indep.cost_static_avg_"
   ]
  },
  {
   "cell_type": "code",
   "execution_count": null,
   "metadata": {},
   "outputs": [],
   "source": [
    "evomds.cost_static_avg_"
   ]
  },
  {
   "cell_type": "code",
   "execution_count": null,
   "metadata": {},
   "outputs": [],
   "source": [
    "from evomap.metrics import *\n",
    "\n",
    "# Use the three lists X_t, X_t_indep, and X_t_indep_aligned and compute the following metrics for each of them: misalign_score, align_score, and avg_adjusted_hitrate_score. Store the results in a dataframe\n",
    "\n",
    "misalign_score_t = []\n",
    "align_score_t = []\n",
    "persistence_score_t = []\n",
    "avg_hitrate_score_t = []\n",
    "avg_adjusted_hitrate_score_t = []\n",
    "\n",
    "for i, X in enumerate([X_t, X_t_indep, X_t_indep_aligned]):\n",
    "    misalign_score_t.append(misalign_score(X))\n",
    "    align_score_t.append(align_score(X))\n",
    "    persistence_score_t.append(persistence_score(X))\n",
    "    avg_hitrate_score_t.append(avg_hitrate_score(X, D_t, input_format='dissimilarity', n_neighbors=5))\n",
    "  \n",
    "    avg_adjusted_hitrate_score_t.append(avg_adjusted_hitrate_score(X, D_t, input_format='dissimilarity', n_neighbors=5))\n",
    "\n",
    "metrics = pd.DataFrame({'misalign_score': misalign_score_t, \n",
    "                        'align_score': align_score_t,\n",
    "                        'hitrate_score': avg_hitrate_score_t,\n",
    "                        'adjusted_hitrate_score': avg_adjusted_hitrate_score_t,},\n",
    "                          index = ['EvoMDS', 'Independent MDS', 'Independent MDS + Alignment'])\n",
    "\n",
    "metrics['average_stress'] = [evomds.cost_static_avg_, evomds_indep.cost_static_avg_, evomds_indep.cost_static_avg_]\n",
    "\n",
    "# sort metrics such that the order is Independent MDS, Independent MDS + Alignment, EvoMDS\n",
    "metrics = metrics.reindex(['Independent MDS', 'Independent MDS + Alignment', 'EvoMDS'])\n",
    "metrics.round(4)"
   ]
  },
  {
   "cell_type": "code",
   "execution_count": null,
   "metadata": {},
   "outputs": [],
   "source": [
    "metrics.round(4).to_excel(os.path.join(PATH_OUT, 'sect4_metrics.xlsx'))"
   ]
  },
  {
   "cell_type": "markdown",
   "metadata": {},
   "source": [
    "## Hyperparameter Tuning"
   ]
  },
  {
   "cell_type": "markdown",
   "metadata": {},
   "source": [
    "### Use the Grid Search"
   ]
  },
  {
   "cell_type": "markdown",
   "metadata": {},
   "source": [
    "First, define the parameter space across which the grid search shall be completed"
   ]
  },
  {
   "cell_type": "code",
   "execution_count": null,
   "metadata": {},
   "outputs": [],
   "source": [
    "param_grid = {\n",
    "    'alpha': np.linspace(0.25, 2, 20), \n",
    "    'p': [1, 2]}"
   ]
  },
  {
   "cell_type": "markdown",
   "metadata": {},
   "source": [
    "Next, define the metrics on which each parameter combination is to be evaluated"
   ]
  },
  {
   "cell_type": "code",
   "execution_count": null,
   "metadata": {},
   "outputs": [],
   "source": [
    "from evomap.metrics import misalign_score, persistence_score, avg_hitrate_score\n",
    "\n",
    "metrics = [misalign_score, persistence_score, avg_hitrate_score]\n",
    "metric_labels = ['Misalignment', 'Persistence', 'Hitrate']"
   ]
  },
  {
   "cell_type": "code",
   "execution_count": null,
   "metadata": {},
   "outputs": [],
   "source": [
    "model = EvoMDS(init = cmds_t, mds_type = 'interval', verbose = 1)\n",
    "\n",
    "df_grid_results = model.grid_search(\n",
    "    Xs = D_t, \n",
    "    param_grid = param_grid, \n",
    "    eval_functions =  metrics,\n",
    "    eval_labels = metric_labels, \n",
    "    kwargs = {\"input_format\" : 'dissimilarity'})"
   ]
  },
  {
   "cell_type": "code",
   "execution_count": null,
   "metadata": {},
   "outputs": [],
   "source": [
    "df_grid_results.tail()"
   ]
  },
  {
   "cell_type": "code",
   "execution_count": null,
   "metadata": {},
   "outputs": [],
   "source": [
    "# Create a grouped line plot based on htis dttaframe\n",
    "df_grid_results.groupby(['alpha', 'p']).Misalignment.mean().unstack().plot(title = 'Misalignment')\n",
    "df_grid_results.groupby(['alpha', 'p']).cost_static_avg.mean().unstack().plot(title = 'Average Stress')"
   ]
  },
  {
   "cell_type": "markdown",
   "metadata": {},
   "source": [
    "### Results across Hyperparameters"
   ]
  },
  {
   "cell_type": "code",
   "execution_count": null,
   "metadata": {},
   "outputs": [],
   "source": [
    "X_t_low_alpha = EvoMDS(alpha = 0.5, mds_type = 'interval', init = cmds_t).fit_transform(D_t)\n",
    "X_t_low_alpha = align_maps(X_t_low_alpha, X_t[0])\n",
    "\n",
    "X_t_mid_alpha = EvoMDS(alpha = 1, mds_type = 'interval', init = cmds_t).fit_transform(D_t)\n",
    "X_t_mid_alpha = align_maps(X_t_mid_alpha, X_t[0])\n",
    "\n",
    "X_t_high_alpha = EvoMDS(alpha = 1.5, mds_type = 'interval', init = cmds_t).fit_transform(D_t)\n",
    "X_t_high_alpha = align_maps(X_t_high_alpha, X_t[0])\n",
    "\n",
    "from evomap.printer import draw_trajectories\n",
    "fig, ax = plt.subplots(1,3,figsize = (17,6))\n",
    "draw_trajectories(X_t_low_alpha, show_axes= True, labels = labels, period_labels= periods, ax = ax[0])\n",
    "draw_trajectories(X_t_mid_alpha, labels = labels, period_labels = periods, show_axes=True, ax = ax[1])\n",
    "draw_trajectories(X_t_high_alpha, labels = labels, period_labels = periods, show_axes = True, ax = ax[2])\n",
    "ax[0].set_xlabel(\"Dimension 1\", fontdict = title_fontdict)\n",
    "ax[0].set_title('Solution A: \\nLow Alpha\\n', fontdict = title_fontdict)\n",
    "ax[1].set_title('Solution B: \\nMedium Alpha\\n', fontdict = title_fontdict)\n",
    "ax[2].set_title('Solution C: \\nHigh Alpha\\n', fontdict = title_fontdict)\n",
    "\n",
    "ax[1].set_xlabel(\"Dimension 1\", fontdict = title_fontdict)\n",
    "ax[2].set_xlabel(\"Dimension 1\", fontdict = title_fontdict)\n",
    "ax[0].set_ylabel(\"Dimension 2\", fontdict = title_fontdict)\n",
    "ax[1].set_ylabel(\"Dimension 2\", fontdict = title_fontdict)\n",
    "ax[2].set_ylabel(\"Dimension 2\", fontdict = title_fontdict)\n",
    "fig.tight_layout()\n",
    "fig.savefig(os.path.join(PATH_OUT, 'sect5_hyperparameter_alpha.PNG'), dpi = 300)\n",
    "fig"
   ]
  },
  {
   "cell_type": "markdown",
   "metadata": {},
   "source": [
    "### Results across Hyperparameter p"
   ]
  },
  {
   "cell_type": "code",
   "execution_count": null,
   "metadata": {},
   "outputs": [],
   "source": [
    "X_t_p1 = EvoMDS(alpha = 1.1, p = 1, mds_type = 'interval', init = cmds_t).fit_transform(D_t)\n",
    "X_t_p2 = EvoMDS(alpha = 1.15, p = 2, mds_type = 'interval', init = cmds_t).fit_transform(D_t)\n",
    "X_t_p3 = EvoMDS(alpha = 3, p = 3, mds_type = 'interval', init = cmds_t).fit_transform(D_t)\n",
    "\n",
    "fig, ax = plt.subplots(1,3,figsize = (17,6))\n",
    "draw_trajectories(X_t_p1, show_axes= True, labels = labels, period_labels= periods, ax = ax[0])\n",
    "draw_trajectories(X_t_p2, labels = labels, period_labels = periods, show_axes=True, ax = ax[1])\n",
    "draw_trajectories(X_t_p3, labels = labels, period_labels = periods, show_axes = True, ax = ax[2])\n",
    "ax[0].set_xlabel(\"Dimension 1\", fontdict = title_fontdict)\n",
    "ax[0].set_title('Solution A: \\np = 1\\n', fontdict = title_fontdict)\n",
    "ax[1].set_title('Solution B: \\np = 2\\n', fontdict = title_fontdict)\n",
    "ax[2].set_title('Solution C: \\np = 3\\n', fontdict = title_fontdict)\n",
    "\n",
    "ax[1].set_xlabel(\"Dimension 1\", fontdict = title_fontdict)\n",
    "ax[2].set_xlabel(\"Dimension 1\", fontdict = title_fontdict)\n",
    "ax[0].set_ylabel(\"Dimension 2\", fontdict = title_fontdict)\n",
    "ax[1].set_ylabel(\"Dimension 2\", fontdict = title_fontdict)\n",
    "ax[2].set_ylabel(\"Dimension 2\", fontdict = title_fontdict)\n",
    "fig.tight_layout()\n",
    "fig.savefig(os.path.join(PATH_OUT, 'sect5_hyperparameter_p.PNG'), dpi = 300)\n",
    "fig"
   ]
  },
  {
   "cell_type": "markdown",
   "metadata": {},
   "source": [
    "### Results across MDS Types"
   ]
  },
  {
   "cell_type": "code",
   "execution_count": null,
   "metadata": {},
   "outputs": [],
   "source": [
    "X_t_interval = EvoMDS(alpha = 1.1, p = 1, mds_type = 'interval', init = cmds_t).fit_transform(D_t)\n",
    "X_t_ordinal = EvoMDS(alpha = 1.5, p = 1, mds_type = 'ordinal', init = cmds_t).fit_transform(D_t)\n",
    "\n",
    "fig, ax = plt.subplots(1,2,figsize = (13,6))\n",
    "draw_trajectories(X_t_interval, labels = labels, period_labels = periods, show_axes=True, ax = ax[1])\n",
    "draw_trajectories(X_t_ordinal, labels = labels, period_labels = periods, show_axes = True, ax = ax[2])\n",
    "ax[0].set_title('Solution A: \\nInterval MDS\\n', fontdict = title_fontdict)\n",
    "ax[1].set_title('Solution B: \\nOrdinal MDS\\n', fontdict = title_fontdict)\n",
    "\n",
    "ax[0].set_xlabel(\"Dimension 1\", fontdict = title_fontdict)\n",
    "ax[1].set_xlabel(\"Dimension 1\", fontdict = title_fontdict)\n",
    "ax[0].set_ylabel(\"Dimension 2\", fontdict = title_fontdict)\n",
    "ax[1].set_ylabel(\"Dimension 2\", fontdict = title_fontdict)\n",
    "\n",
    "fig.tight_layout()\n",
    "fig.savefig(os.path.join(PATH_OUT, 'sect5_mds_types.PNG'), dpi = 300)\n",
    "fig"
   ]
  },
  {
   "cell_type": "markdown",
   "metadata": {},
   "source": [
    "## Rotate and Align Map Sequences"
   ]
  },
  {
   "cell_type": "code",
   "execution_count": null,
   "metadata": {},
   "outputs": [],
   "source": [
    "X_t_mid_alpha = EvoMDS(alpha = 1, mds_type = 'interval', init = cmds_t).fit_transform(D_t)\n",
    "\n",
    "X_t_high_alpha = EvoMDS(alpha = 1.5, mds_type = 'interval', init = cmds_t).fit_transform(D_t)\n",
    "X_t_high_alpha_rotated = align_maps(X_t_high_alpha, X_t[0])"
   ]
  },
  {
   "cell_type": "code",
   "execution_count": null,
   "metadata": {},
   "outputs": [],
   "source": [
    "fig, ax = plt.subplots(2,2,figsize = (12,12))\n",
    "draw_trajectories(X_t_mid_alpha, labels = labels, ax = ax[0,0])\n",
    "draw_trajectories(X_t_high_alpha, labels = labels, ax = ax[0,1])\n",
    "draw_trajectories(X_t_mid_alpha, labels = labels, ax = ax[1,0])\n",
    "draw_trajectories(X_t_high_alpha_rotated, labels = labels, ax = ax[1,1])\n",
    "fig"
   ]
  },
  {
   "cell_type": "markdown",
   "metadata": {},
   "source": [
    "## EvoTSNE"
   ]
  },
  {
   "cell_type": "code",
   "execution_count": 189,
   "metadata": {},
   "outputs": [
    {
     "name": "stdout",
     "output_type": "stream",
     "text": [
      "[EvoTSNE] Initialization 1/1\n",
      "[EvoTSNE] Gradient descent with Momentum: 0.5\n",
      "[EvoTSNE] Iteration 50 -- Cost: 146.58 -- Gradient Norm: 0.0025\n",
      "[EvoTSNE] Iteration 78: gradient norm vanished.\n",
      "[EvoTSNE] Gradient descent with Momentum: 0.8\n",
      "[EvoTSNE] Iteration 251: gradient norm vanished.\n"
     ]
    },
    {
     "data": {
      "image/png": "[encoded data removed]",
      "text/plain": [
       "<Figure size 500x500 with 1 Axes>"
      ]
     },
     "execution_count": 189,
     "metadata": {},
     "output_type": "execute_result"
    }
   ],
   "source": [
    "from evomap.mapping import EvoTSNE\n",
    "\n",
    "X_t_tsne = EvoTSNE(alpha = .25, p = 1, input_type = 'distance', perplexity = 5, eta = .1, verbose = 2).fit_transform(D_t)\n",
    "draw_trajectories(X_t, labels = labels)"
   ]
  },
  {
   "cell_type": "code",
   "execution_count": 191,
   "metadata": {},
   "outputs": [
    {
     "data": {
      "image/png": "[encoded data removed]",
      "text/plain": [
       "<Figure size 500x500 with 1 Axes>"
      ]
     },
     "execution_count": 191,
     "metadata": {},
     "output_type": "execute_result"
    }
   ],
   "source": [
    "draw_map(X_t_tsne[0])"
   ]
  },
  {
   "cell_type": "markdown",
   "metadata": {},
   "source": [
    "## EvoSammon"
   ]
  },
  {
   "cell_type": "code",
   "execution_count": 176,
   "metadata": {},
   "outputs": [
    {
     "name": "stdout",
     "output_type": "stream",
     "text": [
      "[EvoSammon] Initialization 1/1\n",
      "[EvoSammon] Running Gradient Descent with Backtracking via Halving\n",
      "[EvoSammon] Iteration 50 -- Cost: 21.73 -- Gradient Norm: 0.0081\n",
      "[EvoSammon] Iteration 100 -- Cost: 19.00 -- Gradient Norm: 0.0028\n",
      "[EvoSammon] Iteration 150 -- Cost: 17.99 -- Gradient Norm: 0.0038\n",
      "[EvoSammon] Iteration 200 -- Cost: 17.38 -- Gradient Norm: 0.0027\n",
      "[EvoSammon] Iteration 250 -- Cost: 17.02 -- Gradient Norm: 0.0023\n",
      "[EvoSammon] Iteration 300 -- Cost: 16.74 -- Gradient Norm: 0.0020\n",
      "[EvoSammon] Iteration 350 -- Cost: 16.53 -- Gradient Norm: 0.0018\n",
      "[EvoSammon] Iteration 400 -- Cost: 16.37 -- Gradient Norm: 0.0016\n",
      "[EvoSammon] Iteration 450 -- Cost: 16.24 -- Gradient Norm: 0.0016\n",
      "[EvoSammon] Iteration 500 -- Cost: 16.14 -- Gradient Norm: 0.0014\n",
      "[EvoSammon] Iteration 550 -- Cost: 16.06 -- Gradient Norm: 0.0013\n",
      "[EvoSammon] Iteration 600 -- Cost: 16.00 -- Gradient Norm: 0.0013\n",
      "[EvoSammon] Iteration 650 -- Cost: 15.96 -- Gradient Norm: 0.0013\n",
      "[EvoSammon] Iteration 700 -- Cost: 15.93 -- Gradient Norm: 0.0012\n",
      "[EvoSammon] Iteration 714: gradient norm vanished. Final cost: 15.92\n"
     ]
    }
   ],
   "source": [
    "from evomap.mapping import EvoSammon\n",
    "\n",
    "#D_t = normalize_diss_mats(D_t)\n",
    "\n",
    "X_t_sammon = EvoSammon(alpha = 15, p = 1, step_size = .01, verbose = 2).fit_transform(D_t_inv)"
   ]
  },
  {
   "cell_type": "code",
   "execution_count": 177,
   "metadata": {},
   "outputs": [
    {
     "data": {
      "image/png": "[encoded data removed]",
      "text/plain": [
       "<Figure size 500x500 with 1 Axes>"
      ]
     },
     "execution_count": 177,
     "metadata": {},
     "output_type": "execute_result"
    }
   ],
   "source": [
    "draw_trajectories(X_t_sammon, labels = labels)"
   ]
  },
  {
   "cell_type": "code",
   "execution_count": 100,
   "metadata": {},
   "outputs": [
    {
     "data": {
      "text/plain": [
       "0.6812500000000001"
      ]
     },
     "execution_count": 100,
     "metadata": {},
     "output_type": "execute_result"
    }
   ],
   "source": [
    "avg_hitrate_score(X_t_sammon, D_t, input_format='dissimilarity', n_neighbors=5)"
   ]
  },
  {
   "cell_type": "markdown",
   "metadata": {},
   "source": [
    "# THE END\n",
    "\n",
    "For further examples, using a larger dataset, see https://evomap.readthedocs.io/en/latest/dynamic%20mapping.html"
   ]
  },
  {
   "cell_type": "markdown",
   "metadata": {},
   "source": []
  }
 ],
 "metadata": {
  "kernelspec": {
   "display_name": "evomap-package",
   "language": "python",
   "name": "python3"
  },
  "language_info": {
   "codemirror_mode": {
    "name": "ipython",
    "version": 3
   },
   "file_extension": ".py",
   "mimetype": "text/x-python",
   "name": "python",
   "nbconvert_exporter": "python",
   "pygments_lexer": "ipython3",
   "version": "3.9.16"
  },
  "orig_nbformat": 4
 },
 "nbformat": 4,
 "nbformat_minor": 2
}
